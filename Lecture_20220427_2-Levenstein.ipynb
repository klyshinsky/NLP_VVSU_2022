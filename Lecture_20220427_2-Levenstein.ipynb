{
 "cells": [
  {
   "cell_type": "markdown",
   "metadata": {},
   "source": [
    "### К вопросу о том, как можно искать ошибки в тексте\n",
    "**Расстояние Хэмминга** - число позиций, в которых соответствующие символы двух слов одинаковой длины различны (плюс насколько второе слово длиннее первого).\n",
    "\n",
    "**Одноклассники**<br>\n",
    "Аднаклассники  H=2<br>\n",
    "Одоклассники    H=10<br>\n",
    "Однокласссники H=5<br>\n",
    "\n",
    "Для **Расстояние Левенштейна** вводится три вида ошибок: вставки (*ошиббка*), удаления (*ошика*) и замены (*ашибка*).<br>\n",
    "Тогда оно определяется как минимальное количество ошибок, которое надо сделать в одном слове, чтобы получить второе.\n",
    "\n",
    "**Одноклассники**<br>\n",
    "Аднаклассники  L=2<br>\n",
    "Одоклассники   L=1<br>\n",
    "Однокласссники L=1\n",
    "\n",
    "**Алгоритм Библиотеки Конгресса США** основывается на том, что читатель некорректно произносит название книги на языке, который оба не понимают.\n",
    "- Заменяем буквы на похожие (б-п, о-а, ...).\n",
    "- Заменяем повторяющиеся буквы на одно вхождение.\n",
    "- Дополнительные действия.\n",
    "- Ищем (по Левенштейну)."
   ]
  },
  {
   "cell_type": "code",
   "execution_count": 2,
   "metadata": {},
   "outputs": [],
   "source": [
    "def naiveLeven(str1, str2):\n",
    "    if len(str1) == len(str2) and len(str1) == 0:\n",
    "        return 0\n",
    "    elif len(str1) * len(str2) == 0:\n",
    "        return abs(len(str1) - len(str2))\n",
    "    elif str1[0] == str2[0]:\n",
    "        return naiveLeven(str1[1:], str2[1:])\n",
    "    else:\n",
    "        n0 = naiveLeven(str1[1:], str2[1:])\n",
    "        n1 = naiveLeven(str1[1:], str2)\n",
    "        n2 = naiveLeven(str1, str2[1:])\n",
    "        return min(n0, n1, n2)+1"
   ]
  },
  {
   "cell_type": "code",
   "execution_count": 7,
   "metadata": {
    "scrolled": true
   },
   "outputs": [
    {
     "name": "stdout",
     "output_type": "stream",
     "text": [
      "0\n",
      "1\n",
      "2\n",
      "1\n",
      "1\n",
      "2\n",
      "7\n"
     ]
    }
   ],
   "source": [
    "print(naiveLeven(\"мама\", \"мама\"))\n",
    "print(naiveLeven(\"мама\", \"пама\"))\n",
    "print(naiveLeven(\"мама\", \"папа\"))\n",
    "print(naiveLeven(\"мама\", \"маема\"))\n",
    "print(naiveLeven(\"мама\", \"ама\"))\n",
    "print(naiveLeven(\"мама\", \"паа\"))\n"
   ]
  },
  {
   "cell_type": "code",
   "execution_count": 21,
   "metadata": {},
   "outputs": [
    {
     "name": "stdout",
     "output_type": "stream",
     "text": [
      "The slowest run took 12.26 times longer than the fastest. This could mean that an intermediate result is being cached.\n",
      "100000 loops, best of 3: 4.72 µs per loop\n"
     ]
    }
   ],
   "source": [
    "%%timeit\n",
    "#naiveLeven(\"Комсомольск-на-Амуре\", \"Комсамольск-на-Омуре\") # --\n",
    "#naiveLeven(\"Клышинский\", \"Колтышинский\") # 429\n",
    "naiveLeven(\"Клышинский\", \"Клышинский\") # 4.72"
   ]
  },
  {
   "cell_type": "code",
   "execution_count": 36,
   "metadata": {},
   "outputs": [],
   "source": [
    "def naiveLeven2(str1, str2, cerr, thr):\n",
    "    if cerr > thr:\n",
    "        return 1000000\n",
    "    if len(str1) == len(str2) and len(str1) == 0:\n",
    "        return 0\n",
    "    elif len(str1) * len(str2) == 0:\n",
    "        return abs(len(str1) - len(str2))\n",
    "    elif str1[0] == str2[0]:\n",
    "        return naiveLeven2(str1[1:], str2[1:], cerr, thr)\n",
    "    else:\n",
    "        n0 = naiveLeven2(str1[1:], str2[1:], cerr+1, thr)\n",
    "        n1 = naiveLeven2(str1[1:], str2, cerr+1, thr)\n",
    "        n2 = naiveLeven2(str1, str2[1:], cerr+1, thr)\n",
    "        return min(n0, n1, n2)+1"
   ]
  },
  {
   "cell_type": "code",
   "execution_count": 37,
   "metadata": {},
   "outputs": [
    {
     "name": "stdout",
     "output_type": "stream",
     "text": [
      "10000 loops, best of 3: 71.7 µs per loop\n"
     ]
    }
   ],
   "source": [
    "%%timeit\n",
    "naiveLeven2(\"Комсомольск-на-Амуре\", \"Комсамольск-на-Омуре\", 0, 3) # 71\n",
    "#naiveLeven2(\"Клышинский\", \"Колтышинский\", 0, 3) # 46\n",
    "#naiveLeven2(\"Клышинский\", \"Клышинский\", 0, 3) # 4.97"
   ]
  },
  {
   "cell_type": "code",
   "execution_count": 38,
   "metadata": {},
   "outputs": [],
   "source": [
    "def Leven(str1, str2, cerr, thr):\n",
    "    if cerr > thr:\n",
    "        return 1000000\n",
    "    if len(str1) == len(str2) and len(str1) == 0:\n",
    "        return 0\n",
    "    elif len(str1) * len(str2) == 0:\n",
    "        return abs(len(str1) - len(str2))\n",
    "    elif str1[0] == str2[0]:\n",
    "        return Leven(str1[1:], str2[1:], cerr, thr)\n",
    "    else:\n",
    "        n0 = Leven(str1[1:], str2[1:], cerr+1, thr)\n",
    "        n1 = Leven(str1[1:], str2, cerr+1, min(thr, cerr+n0))\n",
    "        n2 = Leven(str1, str2[1:], cerr+1, min(thr, cerr+min(n0, n1)))\n",
    "        return min(n0, n1, n2)+1"
   ]
  },
  {
   "cell_type": "code",
   "execution_count": 41,
   "metadata": {},
   "outputs": [
    {
     "name": "stdout",
     "output_type": "stream",
     "text": [
      "100000 loops, best of 3: 14.5 µs per loop\n"
     ]
    }
   ],
   "source": [
    "%%timeit\n",
    "Leven(\"Комсомольск-на-Амуре\", \"Комсамольск-на-Омуре\", 0, 3) # 14\n",
    "#Leven(\"Клышинский\", \"Колтышинский\", 0, 3) # 36\n",
    "#Leven(\"Клышинский\", \"Клышинский\", 0, 3) # 4.97"
   ]
  }
 ],
 "metadata": {
  "kernelspec": {
   "display_name": "Python 3 (ipykernel)",
   "language": "python",
   "name": "python3"
  },
  "language_info": {
   "codemirror_mode": {
    "name": "ipython",
    "version": 3
   },
   "file_extension": ".py",
   "mimetype": "text/x-python",
   "name": "python",
   "nbconvert_exporter": "python",
   "pygments_lexer": "ipython3",
   "version": "3.9.5"
  }
 },
 "nbformat": 4,
 "nbformat_minor": 2
}
