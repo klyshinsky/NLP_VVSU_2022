{
 "cells": [
  {
   "cell_type": "markdown",
   "metadata": {},
   "source": [
    "Задачей синтаксического анализа является определение связей между словами. Результатом синтаксического анализа является дерево одного из двух видов - дерево зависимостей или дерево составляющих. Дерево зависимостей показывает связи между отдельными словами, дерево составляющих показывает как слова складываются в группы. Так как дерево зависимостей содержит больше информации, мы будем использовать именно этот формализм.\n",
    "\n",
    "Для проведения синтаксического анализа будем использовать библиотеки UDPipe и Spacy. Она не является лучшей в своем классе, уступая, например, SyntaxNet и Stanford Parser, но зато она проще в использовании и установке. Также можно использовать синтаксический анализатор [SlovNet](https://github.com/natasha/slovnet), входящий в состав библиотек Natasha."
   ]
  },
  {
   "cell_type": "markdown",
   "metadata": {},
   "source": [
    "## Библиотека UDPipe\n",
    "Для работы UDPipe надо поставить библиотеку  \n",
    "`pip install ufal.udpipe`  \n",
    "Помимо этого, нам потребуются языковые синтаксические модели, взятые отсюда \n",
    "https://lindat.mff.cuni.cz/repository/xmlui/handle/11234/1-3131  \n",
    "Более конкретно, я буду использовать вот этот файл положив его в каталог data:  \n",
    "https://lindat.mff.cuni.cz/repository/xmlui/bitstream/handle/11234/1-3131/russian-syntagrus-ud-2.5-191206.udpipe?sequence=70&isAllowed=y"
   ]
  },
  {
   "cell_type": "code",
   "execution_count": 1,
   "metadata": {},
   "outputs": [],
   "source": [
    "# Подключаем синтаксической анализатор и его части.\n",
    "import ufal.udpipe\n",
    "from ufal.udpipe import Model, Pipeline, ProcessingError\n",
    "\n",
    "# Для отрисовки деревьев нам потребуются вот эти библиотеки.\n",
    "%matplotlib notebook\n",
    "import matplotlib.pyplot as plt\n",
    "\n",
    "import requests\n",
    "from bs4 import BeautifulSoup as bs\n",
    "\n",
    "from collections import defaultdict\n",
    "from tqdm.auto import tqdm\n",
    "import random\n"
   ]
  },
  {
   "cell_type": "markdown",
   "metadata": {},
   "source": [
    "Загрузим уже обученную модель. "
   ]
  },
  {
   "cell_type": "code",
   "execution_count": 2,
   "metadata": {},
   "outputs": [],
   "source": [
    "model = Model.load(\"data/russian-syntagrus-ud-2.5-191206.udpipe\")"
   ]
  },
  {
   "cell_type": "markdown",
   "metadata": {},
   "source": [
    "В состав UDPipe входят собственный токенизатор, морфология и система снятия омонимии. Создадим соответствующие объекты, а также объект, которые нам пригодятся при синтаксическом анализе."
   ]
  },
  {
   "cell_type": "code",
   "execution_count": 3,
   "metadata": {},
   "outputs": [],
   "source": [
    "# Токенизатор со снятием омонимии.\n",
    "tokenizer = model.newTokenizer(model.DEFAULT)\n",
    "# Объект для отображения результатов разбора.\n",
    "conlluOutput = ufal.udpipe.OutputFormat.newOutputFormat(\"conllu\")\n",
    "# Объект предложения, в которое будет осуществляться разбор.\n",
    "sentence = ufal.udpipe.Sentence()\n",
    "# Объект для ошибок, возникающих в ходе разбора.\n",
    "error = ufal.udpipe.ProcessingError()"
   ]
  },
  {
   "cell_type": "markdown",
   "metadata": {},
   "source": [
    "Теперь нам необходимо передать токенизатору текст, который мы собираемся разбирать, при помощи функции `setText`. "
   ]
  },
  {
   "cell_type": "code",
   "execution_count": 4,
   "metadata": {},
   "outputs": [],
   "source": [
    "tokenizer.setText(\"Мама мыла раму. При этом Рама краснел со сраму. \");"
   ]
  },
  {
   "cell_type": "markdown",
   "metadata": {},
   "source": [
    "Выбирать очередное предложение можно при помощи функции `nextSentence`. Эта функция возвращает `True`, если предложение извлеклось, и `False`, если предложений в тексте больше нет.\n",
    "\n",
    "Далее предложение передается на морфологическую разметку со снятием омонимии (тэггинг) и синтаксический анализ (парсинг).\n",
    "\n",
    "Результаты разбора можно отображать в разных форматах, но мы будем использовать формат conllu."
   ]
  },
  {
   "cell_type": "code",
   "execution_count": 5,
   "metadata": {},
   "outputs": [
    {
     "name": "stdout",
     "output_type": "stream",
     "text": [
      "# newdoc\n",
      "# newpar\n",
      "# sent_id = 1\n",
      "# text = Мама мыла раму.\n",
      "1\tМама\tмама\tNOUN\t_\tAnimacy=Anim|Case=Nom|Gender=Fem|Number=Sing\t2\tnsubj\t_\t_\n",
      "2\tмыла\tмыть\tVERB\t_\tAspect=Imp|Gender=Fem|Mood=Ind|Number=Sing|Tense=Past|VerbForm=Fin|Voice=Act\t0\troot\t_\t_\n",
      "3\tраму\tрама\tNOUN\t_\tAnimacy=Anim|Case=Acc|Gender=Fem|Number=Sing\t2\tobj\t_\tSpaceAfter=No\n",
      "4\t.\t.\tPUNCT\t_\t_\t2\tpunct\t_\t_\n",
      "\n",
      "\n"
     ]
    }
   ],
   "source": [
    "# Токенизация.\n",
    "tokenizer.nextSentence(sentence, error)\n",
    "# Морфологичекий анализ со снятием омонимии.\n",
    "model.tag(sentence, model.DEFAULT)\n",
    "# Синтаксический анализ.\n",
    "model.parse(sentence, model.DEFAULT)\n",
    "# Отображение результатов.\n",
    "print(conlluOutput.writeSentence(sentence))"
   ]
  },
  {
   "cell_type": "markdown",
   "metadata": {},
   "source": [
    "Выберем следующее предложение и проведем его анализ."
   ]
  },
  {
   "cell_type": "code",
   "execution_count": 6,
   "metadata": {},
   "outputs": [
    {
     "name": "stdout",
     "output_type": "stream",
     "text": [
      "# sent_id = 2\n",
      "# text = При этом Рама краснел со сраму.\n",
      "1\tПри\tпри\tADP\t_\t_\t2\tcase\t_\t_\n",
      "2\tэтом\tэто\tPRON\t_\tAnimacy=Inan|Case=Loc|Gender=Neut|Number=Sing\t4\tobl\t_\t_\n",
      "3\tРама\tрама\tPROPN\t_\tAnimacy=Anim|Case=Nom|Gender=Masc|Number=Sing\t4\tnsubj\t_\t_\n",
      "4\tкраснел\tкраснеть\tVERB\t_\tAspect=Imp|Gender=Masc|Mood=Ind|Number=Sing|Tense=Past|VerbForm=Fin|Voice=Act\t0\troot\t_\t_\n",
      "5\tсо\tс\tADP\t_\t_\t6\tcase\t_\t_\n",
      "6\tсраму\tсрам\tNOUN\t_\tAnimacy=Inan|Case=Par|Gender=Masc|Number=Sing\t4\tobl\t_\tSpaceAfter=No\n",
      "7\t.\t.\tPUNCT\t_\t_\t4\tpunct\t_\t_\n",
      "\n",
      "\n"
     ]
    }
   ],
   "source": [
    "tokenizer.nextSentence(sentence, error)\n",
    "\n",
    "model.tag(sentence, model.DEFAULT)\n",
    "model.parse(sentence, model.DEFAULT)\n",
    "\n",
    "print(conlluOutput.writeSentence(sentence))"
   ]
  },
  {
   "cell_type": "markdown",
   "metadata": {},
   "source": [
    "Объект `Sentence` содержит в себе свойство `words`, являющееся списком слов. Каждое слово включает в себя, среди прочего, следующие свойства:\n",
    "- lemma - начальная форма слова,\n",
    "- form - токен, \n",
    "- head - номер родительского элемента в списке слов,\n",
    "- deprel - название отношения,\n",
    "- upostag - часть речи,\n",
    "- feats - грамматические параметры,\n",
    "- misc - дополнительные параметры."
   ]
  },
  {
   "cell_type": "code",
   "execution_count": 7,
   "metadata": {},
   "outputs": [
    {
     "name": "stdout",
     "output_type": "stream",
     "text": [
      "0 -> -1 <root> [ <root> ] <root> <root>  \n",
      "1 -> 2 при [ При ] ADP  case \n",
      "2 -> 4 это [ этом ] PRON Animacy=Inan|Case=Loc|Gender=Neut|Number=Sing obl \n",
      "3 -> 4 рама [ Рама ] PROPN Animacy=Anim|Case=Nom|Gender=Masc|Number=Sing nsubj \n",
      "4 -> 0 краснеть [ краснел ] VERB Aspect=Imp|Gender=Masc|Mood=Ind|Number=Sing|Tense=Past|VerbForm=Fin|Voice=Act root \n",
      "5 -> 6 с [ со ] ADP  case \n",
      "6 -> 4 срам [ сраму ] NOUN Animacy=Inan|Case=Par|Gender=Masc|Number=Sing obl SpaceAfter=No\n",
      "7 -> 4 . [ . ] PUNCT  punct \n"
     ]
    }
   ],
   "source": [
    "for i, word in enumerate(sentence.words):\n",
    "    print(i, \"->\", word.head, word.lemma, \"[\", word.form, \"]\", word.upostag, word.feats, word.deprel, word.misc)"
   ]
  },
  {
   "cell_type": "markdown",
   "metadata": {},
   "source": [
    "Напишем функцию, которая будет выводить предложение в формате дерева. Все потомки следуют за родителем, перед потомком относительно родителя дается отступ."
   ]
  },
  {
   "cell_type": "code",
   "execution_count": 8,
   "metadata": {},
   "outputs": [
    {
     "name": "stdout",
     "output_type": "stream",
     "text": [
      " 4 краснел\n",
      "     2 этом\n",
      "         1 При\n",
      "     3 Рама\n",
      "     6 сраму\n",
      "         5 со\n",
      "     7 .\n"
     ]
    }
   ],
   "source": [
    "def print_sent(sentence, space=\"\", head=0):\n",
    "    for i, word in enumerate(sentence.words):\n",
    "        if word.head == head:\n",
    "            print(space, i, word.form)\n",
    "            print_sent(sentence, space+\"    \", i)\n",
    "\n",
    "print_sent(sentence)"
   ]
  },
  {
   "cell_type": "markdown",
   "metadata": {},
   "source": [
    "Давайте возьмем новость и выделим из нее все сочетания \"существительное + существительное в родительном падеже\". Такие сочетания интересны тем, что могут претендовать на роль терминов."
   ]
  },
  {
   "cell_type": "code",
   "execution_count": 10,
   "metadata": {},
   "outputs": [
    {
     "data": {
      "text/plain": [
       "'Анатолий Жданов / «Коммерсантъ»\\nУченые из Университета Квинсленда и Немецкого центра нейродегенеративных заболеваний обнаружили неожиданный эффект от употребления яблок. Результаты исследования появились в научном журнале Stem Cell Reports.\\nОпыты проводились на мышах. Специалисты культивировали стволовые клетки мозга взрослых мышей и добавляли в них содержащиеся в яблоках фитонутриенты. Исследование показало, что высокая концентрация фитонутриентов способствует образованию новых нейронов.\\nПо словам ученых, определенные фитонутриенты положительно влияют на работу органов, в том числе мозга. Выяснилось, что они оказывают на организм тот же эффект, что и физическая активность, которая также стимулирует нейрогенез.\\nРанее ученые из Технологического университета австрийского Граца выяснили, что большинство людей неправильно едят яблоки. Исследователи утверждают, что до 90 процентов полезных веществ сосредоточены в сердцевине этого фрукта, и поэтому яблоко желательно съедать вместе с огрызком.'"
      ]
     },
     "execution_count": 10,
     "metadata": {},
     "output_type": "execute_result"
    }
   ],
   "source": [
    "# Загружаем новость и получаем её текст.\n",
    "page = requests.get('https://lenta.ru/news/2021/02/27/apple_effect/')\n",
    "souped = bs(page.text)\n",
    "text = '\\n'.join([p.get_text() for p in souped.find_all(\"div\", attrs={'class': 'topic-body'})[0](\"p\")])\n",
    "text"
   ]
  },
  {
   "cell_type": "code",
   "execution_count": 11,
   "metadata": {},
   "outputs": [],
   "source": [
    "def find_child_Ng(sentence, parent):\n",
    "    \"\"\" Функция поиска всех потомков вершины с номером parent, являющихся\n",
    "    существительными в родительном падеже.\n",
    "    \"\"\"\n",
    "    children = []\n",
    "    for i, word in enumerate(sentence.words):\n",
    "        if word.head == parent and word.upostag == \"NOUN\" and \"Case=Gen\" in word.feats:\n",
    "            children.append(i)\n",
    "    return children\n",
    "\n",
    "def find_NNg(sentence, combinations):\n",
    "    \"\"\" Функция поиска сочетаний \"существительное + существительное в родительном падеже\".\n",
    "    \"\"\"\n",
    "    for i, word in enumerate(sentence.words):\n",
    "        if word.upostag == \"NOUN\":\n",
    "            children = find_child_Ng(sentence, i)\n",
    "            if children != []:\n",
    "                #print(word.lemma, [sentence.words[k].form for k in children])\n",
    "                for child in children:\n",
    "                    combinations[word.lemma][sentence.words[child].form] += 1\n"
   ]
  },
  {
   "cell_type": "markdown",
   "metadata": {},
   "source": [
    "Проанализируем все предложения текста и выделим сочетания."
   ]
  },
  {
   "cell_type": "code",
   "execution_count": 12,
   "metadata": {},
   "outputs": [
    {
     "name": "stdout",
     "output_type": "stream",
     "text": [
      "defaultdict(<function <lambda> at 0x7fc893648550>, {'центр': defaultdict(<class 'int'>, {'заболеваний': 1}), 'эффект': defaultdict(<class 'int'>, {'употребления': 1}), 'употребление': defaultdict(<class 'int'>, {'яблок': 1}), 'результат': defaultdict(<class 'int'>, {'исследования': 1}), 'клетка': defaultdict(<class 'int'>, {'мозга': 1}), 'мозг': defaultdict(<class 'int'>, {'мышей': 1}), 'концентрация': defaultdict(<class 'int'>, {'фитонутриентов': 1}), 'образование': defaultdict(<class 'int'>, {'нейронов': 1}), 'слово': defaultdict(<class 'int'>, {'ученых': 1}), 'работа': defaultdict(<class 'int'>, {'органов': 1, 'мозга': 1}), 'ученый': defaultdict(<class 'int'>, {'университета': 1}), 'большинство': defaultdict(<class 'int'>, {'людей': 1}), 'процент': defaultdict(<class 'int'>, {'веществ': 1}), 'сердцевина': defaultdict(<class 'int'>, {'фрукта': 1})})\n"
     ]
    }
   ],
   "source": [
    "tokenizer.setText(text) # Установить текст.\n",
    "\n",
    "combinations = defaultdict(lambda:defaultdict(int))\n",
    "\n",
    "while tokenizer.nextSentence(sentence, error): # Полчаем следующее предложение.\n",
    "    model.tag(sentence, model.DEFAULT) # Токенизация.\n",
    "    model.parse(sentence, model.DEFAULT) # Синтаксический анализ.\n",
    "    find_NNg(sentence, combinations) # Поиск сочетаний.\n",
    "    \n",
    "print(combinations)"
   ]
  },
  {
   "cell_type": "markdown",
   "metadata": {},
   "source": [
    "Пусть к нам в руки попал фрагмент новостей с Ленты.ру за 2018 год. Посмотрим какие сочетания можно извлечь из него."
   ]
  },
  {
   "cell_type": "code",
   "execution_count": 13,
   "metadata": {},
   "outputs": [],
   "source": [
    "with open(\"data/lenta2018.txt\", encoding=\"utf-8\") as news_file: # Файл с новостями.\n",
    "    text_news = [n.split(\"-----\\n\")[1] for n in news_file.read().split(\"=====\\n\")[1:]]\n",
    "    "
   ]
  },
  {
   "cell_type": "code",
   "execution_count": 14,
   "metadata": {},
   "outputs": [
    {
     "data": {
      "text/plain": [
       "'Испытанная Украиной первая собственная крылатая ракета создана КБ «Луч» в рамках ОКР «Нептун» на основе российской противокорабельной ракеты 3М24 комплекса Х-35У. Об этом пишет военный блог bmpd, который ведут сотрудники московского Центра анализа стратегий и технологий.«Напомним, что в советский период серийное производство ракет 3М24 (Х-35) планировалось организовать на Харьковском авиационном заводе (нынешнее ХГАПП), так что на Украине имеется, видимо, полный комплект производственно-конструкторской документации на эту ракету, как и ведется производство ее двигателя», — отметили эксперты.Разработчиком противокорабельной ракеты 3М24 комплекса «Уран» выступает головное предприятие АО «Корпорация Тактическое ракетное вооружение» (бывшее ГНПЦ «Звезда-Стрела»), расположенное в подмосковном Королёве.Аналитики, ссылаясь на имеющиеся фото- и видеоматериалы тестов, полагают, что Украина провела бросковые испытания макета ракеты, у которого был отключен турбореактивный двигатель и отсутствовала система управления.По мнению экспертов, основной проблемой Украины при разработке «Нептуна» является «создание системы управления и в первую очередь активной радиолокационной головки самонаведения, компетенции в чем у украинских предприятий отсутствуют практически полностью». По данным bmpd, в настоящее время разработкой подобных систем в инициативном порядке занимается киевское частное ООО «Радионикс». Также новая ракета должна получить систему инерциально-спутниковой коррекции с использованием приемников ГЛОНАСС и GPS, для чего, вероятно, будет «использоваться коммерчески доступная аппаратура американского производства».Материалы по теме00:02 — 30 январяРусская смертьЗачем Россия возрождает сверхзвуковой ракетоносец Ту-160Максимальная дальность стрельбы ракеты «Нептун» составит 280 километров, комплекс планируется к созданию в вариантах наземного, корабельного и авиационного базирования, отмечает bmpd. При этом первоочередное внимание будет уделяться наземному варианту.Первые испытания собственной крылатой ракеты Украина провела 30 января. Ракета наземного базирования, отмечал секретарь Совета национальной безопасности и обороны (СНБО) страны Александр Турчинов, способна поражать наземные и морские цели и стала «еще одним существенным аргументом для сдерживания агрессора».\\n'"
      ]
     },
     "execution_count": 14,
     "metadata": {},
     "output_type": "execute_result"
    }
   ],
   "source": [
    "# Проверим, что новости зугрузились.\n",
    "text_news[0]"
   ]
  },
  {
   "cell_type": "code",
   "execution_count": 15,
   "metadata": {},
   "outputs": [
    {
     "data": {
      "application/vnd.jupyter.widget-view+json": {
       "model_id": "7a93cc7f749d4c05af9d9eb0400ff45f",
       "version_major": 2,
       "version_minor": 0
      },
      "text/plain": [
       "  0%|          | 0/1708 [00:00<?, ?it/s]"
      ]
     },
     "metadata": {},
     "output_type": "display_data"
    }
   ],
   "source": [
    "combinations = defaultdict(lambda:defaultdict(int))\n",
    "\n",
    "for text in tqdm(text_news):\n",
    "    tokenizer.setText(text) # Установить текст.\n",
    "    while tokenizer.nextSentence(sentence, error): # Полчаем следующее предложение.\n",
    "        model.tag(sentence, model.DEFAULT) # Токенизация.\n",
    "        model.parse(sentence, model.DEFAULT) # Синтаксический анализ.\n",
    "        find_NNg(sentence, combinations) # Поиск сочетаний.\n"
   ]
  },
  {
   "cell_type": "code",
   "execution_count": 16,
   "metadata": {},
   "outputs": [
    {
     "name": "stdout",
     "output_type": "stream",
     "text": [
      "сентябрь года 39\n",
      "глава государства 56\n",
      "тысяча долларов 39\n",
      "тысяча рублей 54\n",
      "тысяча человек 33\n",
      "статья УК 51\n",
      "лишение свободы 31\n",
      "декабрь года 86\n",
      "октябрь года 37\n",
      "член экипажа 52\n",
      "миллион долларов 64\n",
      "миллион рублей 59\n",
      "нарушение правил 65\n",
      "миллиард долларов 42\n",
      "рубль миллиона 37\n",
      "ноябрь года 47\n",
      "деятельность террористов 32\n",
      "примечание «Ленты.ру» 47\n",
      "решение суда 37\n",
      "январь года 57\n",
      "министр обороны 31\n",
      "конец января 42\n",
      "конец года 58\n",
      "начало года 32\n",
      "февраль года 41\n",
      "пассажир членов 35\n",
      "доллар миллиарда 48\n",
      "церемония открытия 35\n"
     ]
    }
   ],
   "source": [
    "for parent, childs in combinations.items():\n",
    "    for child, freq in childs.items():\n",
    "        if freq > 30:\n",
    "            print(parent, child, freq)\n"
   ]
  },
  {
   "cell_type": "code",
   "execution_count": null,
   "metadata": {},
   "outputs": [],
   "source": []
  },
  {
   "cell_type": "code",
   "execution_count": null,
   "metadata": {},
   "outputs": [],
   "source": []
  },
  {
   "cell_type": "markdown",
   "metadata": {},
   "source": [
    "При анализе текстов существует задача оценки тональности текста. Тональность текста определяет какого роде слова содержатся в тексте - негативные или позитивные. Например, если у нас имеется отзыв на какой-то товар, услугу или организацию, мы можем определить, положительный это отзыв или отрицательный. Для оценки тональности отзыва используют, среди прочего, словари оценочной лексики.\n",
    "\n",
    "Один отзыв может содержать как критику, так и похвалу, в зависимости от того, что в нем рассматривается (Прекрасное обслуживание, но пироженые были несвежими). Код ниже использует словарь оценочной лексики для того, чтобы понять, какие глаголы сочетаются чаще с отрицательно окрашенными словами, а какие - с положительными."
   ]
  },
  {
   "cell_type": "code",
   "execution_count": 17,
   "metadata": {},
   "outputs": [],
   "source": [
    "# Загружаем словарь оценочной лексики.\n",
    "with open(\"data/rusentilex_2017.txt\", encoding=\"utf-8\") as senti_file: \n",
    "    for i in range(18): # Пропускаем заголовок файла.\n",
    "        _ = senti_file.readline()\n",
    "        \n",
    "    senti_words = {line.split(\", \")[0]: line.split(\", \")[3] for line in senti_file.readlines()}"
   ]
  },
  {
   "cell_type": "code",
   "execution_count": 18,
   "metadata": {},
   "outputs": [
    {
     "data": {
      "text/plain": [
       "[('аборт', 'negative'),\n",
       " ('абортивный', 'negative'),\n",
       " ('абракадабра', 'negative'),\n",
       " ('абсурд', 'negative'),\n",
       " ('абсурдность', 'negative'),\n",
       " ('абсурдный', 'negative'),\n",
       " ('авантюра', 'negative'),\n",
       " ('авантюризм', 'negative'),\n",
       " ('авантюрист', 'negative'),\n",
       " ('авантюристический', 'negative')]"
      ]
     },
     "execution_count": 18,
     "metadata": {},
     "output_type": "execute_result"
    }
   ],
   "source": [
    "# Посмотрим на первые 10 слов словаря.\n",
    "list(senti_words.items())[:10]"
   ]
  },
  {
   "cell_type": "code",
   "execution_count": 19,
   "metadata": {},
   "outputs": [],
   "source": [
    "def find_childs(sentence, parent):\n",
    "    \"\"\" Функция для выделения потомков вершины с номером parent из предложения sentence в формате CONLLU.\n",
    "    \"\"\"\n",
    "    children = []\n",
    "    for i, word in enumerate(sentence.words):\n",
    "        if word.head == parent:\n",
    "            children.append(i)\n",
    "    return children\n",
    "\n",
    "def find_sentiments(sentence, senti_words, sentiments):\n",
    "    \"\"\" Ищет слова оценочной лексики senti_words в предложении sentence.\n",
    "        Найденные пары возвращает в список sentiments.\n",
    "    \"\"\"\n",
    "    for i, word in enumerate(sentence.words):\n",
    "        children = find_childs(sentence, i)\n",
    "        for child in children:\n",
    "            if sentence.words[child].lemma in senti_words.keys():\n",
    "                if word.lemma not in sentiments.keys():\n",
    "                    sentiments[word.lemma] = defaultdict(int)\n",
    "                sentiments[word.lemma][senti_words[sentence.words[child].lemma]] += 1\n",
    "        \n",
    "\n",
    "\n",
    "\n",
    "    "
   ]
  },
  {
   "cell_type": "code",
   "execution_count": null,
   "metadata": {},
   "outputs": [
    {
     "data": {
      "application/vnd.jupyter.widget-view+json": {
       "model_id": "8c6ebb0dd7974f838036a740aa958838",
       "version_major": 2,
       "version_minor": 0
      },
      "text/plain": [
       "  0%|          | 0/1708 [00:00<?, ?it/s]"
      ]
     },
     "metadata": {},
     "output_type": "display_data"
    }
   ],
   "source": [
    "sentiments = {}\n",
    "\n",
    "for sent_text in tqdm(text_news):\n",
    "    tokenizer.setText(sent_text)\n",
    "    while tokenizer.nextSentence(sentence, error):\n",
    "        model.tag(sentence, model.DEFAULT)\n",
    "        model.parse(sentence, model.DEFAULT)\n",
    "        find_sentiments(sentence, senti_words, sentiments)\n"
   ]
  },
  {
   "cell_type": "markdown",
   "metadata": {},
   "source": [
    "Посмотрим какие слова чаще встречаются с о словами негатитвной окраски, а какие - с позитивными."
   ]
  },
  {
   "cell_type": "code",
   "execution_count": 27,
   "metadata": {},
   "outputs": [
    {
     "data": {
      "text/plain": [
       "([('получить',\n",
       "   defaultdict(int,\n",
       "               {'negative': 56,\n",
       "                'positive': 33,\n",
       "                'neutral': 3,\n",
       "                'positive/negative': 3})),\n",
       "  ('стать',\n",
       "   defaultdict(int,\n",
       "               {'negative': 79,\n",
       "                'positive': 59,\n",
       "                'neutral': 32,\n",
       "                'positive/negative': 6})),\n",
       "  ('признать',\n",
       "   defaultdict(int,\n",
       "               {'negative': 66,\n",
       "                'positive/negative': 2,\n",
       "                'positive': 10,\n",
       "                'neutral': 3})),\n",
       "  ('мочь',\n",
       "   defaultdict(int,\n",
       "               {'negative': 76,\n",
       "                'positive': 51,\n",
       "                'positive/negative': 7,\n",
       "                'neutral': 16})),\n",
       "  ('дело', defaultdict(int, {'negative': 144, 'neutral': 2, 'positive': 3})),\n",
       "  ('произойти',\n",
       "   defaultdict(int,\n",
       "               {'negative': 82,\n",
       "                'neutral': 5,\n",
       "                'positive/negative': 3,\n",
       "                'positive': 4})),\n",
       "  ('группировка',\n",
       "   defaultdict(int, {'negative': 54, 'neutral': 4, 'positive': 1})),\n",
       "  ('нанести',\n",
       "   defaultdict(int, {'negative': 54, 'neutral': 1, 'positive': 0}))],\n",
       " '\\n----\\n',\n",
       " [('обратить',\n",
       "   defaultdict(int, {'positive': 79, 'negative': 3, 'neutral': 1})),\n",
       "  ('стать',\n",
       "   defaultdict(int,\n",
       "               {'negative': 79,\n",
       "                'positive': 59,\n",
       "                'neutral': 32,\n",
       "                'positive/negative': 6})),\n",
       "  ('новость', defaultdict(int, {'negative': 3, 'positive': 73, 'neutral': 8})),\n",
       "  ('мочь',\n",
       "   defaultdict(int,\n",
       "               {'negative': 76,\n",
       "                'positive': 51,\n",
       "                'positive/negative': 7,\n",
       "                'neutral': 16})),\n",
       "  ('принять',\n",
       "   defaultdict(int,\n",
       "               {'negative': 8,\n",
       "                'positive': 85,\n",
       "                'neutral': 36,\n",
       "                'positive/negative': 1})),\n",
       "  ('с', defaultdict(int, {'positive': 80, 'negative': 0}))])"
      ]
     },
     "execution_count": 27,
     "metadata": {},
     "output_type": "execute_result"
    }
   ],
   "source": [
    "[(senti, vals) for senti,vals in sentiments.items() if vals['negative']>50 and senti!='<root>'], '\\n----\\n',\\\n",
    "[(senti, vals) for senti,vals in sentiments.items() if vals['positive']>50 and senti!='<root>']"
   ]
  },
  {
   "cell_type": "code",
   "execution_count": null,
   "metadata": {},
   "outputs": [],
   "source": []
  },
  {
   "cell_type": "markdown",
   "metadata": {},
   "source": [
    "## Синтаксический анализатор SpaCy\n",
    "\n",
    "Ещё одним синтаксическим анализатором является Spacy. Здесь мы работаем с версией 3, которая вышла в марте 2021 года. Библиотеки можно поставить при помощи pip, а **языковые модели** для нее можно взять [здесь](https://github.com/buriy/spacy-ru) (хотя проще скачать модель в wheel-формате и тоже поставить при помощи pip)."
   ]
  },
  {
   "cell_type": "code",
   "execution_count": 28,
   "metadata": {},
   "outputs": [],
   "source": [
    "# Импортируемм нужные библиотеки.\n",
    "import spacy\n",
    "from spacy import displacy"
   ]
  },
  {
   "cell_type": "code",
   "execution_count": 29,
   "metadata": {},
   "outputs": [],
   "source": [
    "# Загружаем языковую модель.\n",
    "nlp = spacy.load(\"ru_core_news_sm\")"
   ]
  },
  {
   "cell_type": "markdown",
   "metadata": {},
   "source": [
    "Дерево в Spacy представляется именно в виде дерева зависимостей: как совокупность вершин и связей между ними. Каждая вершина соответствует слову из предложения, у слова есть лемма (поле `lemma_`) и токен (поле `text`)."
   ]
  },
  {
   "cell_type": "code",
   "execution_count": 30,
   "metadata": {},
   "outputs": [
    {
     "name": "stdout",
     "output_type": "stream",
     "text": [
      "['\"испытать\" - \"Испытанная\"', '\"украина\" - \"Украиной\"', '\"первый\" - \"первая\"', '\"собственный\" - \"собственная\"', '\"крылатый\" - \"крылатая\"', '\"ракета\" - \"ракета\"', '\"создать\" - \"создана\"', '\"кб\" - \"КБ\"', '\"\"\" - \"«\"', '\"луч\" - \"Луч\"', '\"\"\" - \"»\"', '\"в\" - \"в\"', '\"рамка\" - \"рамках\"', '\"окр\" - \"ОКР\"', '\"\"\" - \"«\"', '\"нептун\" - \"Нептун\"', '\"\"\" - \"»\"', '\"на\" - \"на\"', '\"основа\" - \"основе\"', '\"российский\" - \"российской\"', '\"противокорабельный\" - \"противокорабельной\"', '\"ракета\" - \"ракеты\"', '\"3м24\" - \"3М24\"', '\"комплекс\" - \"комплекса\"', '\"Х-35У.\" - \"Х-35У.\"']\n",
      "['\"об\" - \"Об\"', '\"это\" - \"этом\"', '\"писать\" - \"пишет\"', '\"военный\" - \"военный\"', '\"блог\" - \"блог\"', '\"bmpd\" - \"bmpd\"', '\",\" - \",\"', '\"который\" - \"который\"', '\"вести\" - \"ведут\"', '\"сотрудник\" - \"сотрудники\"', '\"московский\" - \"московского\"', '\"центр\" - \"Центра\"', '\"анализ\" - \"анализа\"', '\"стратегия\" - \"стратегий\"', '\"и\" - \"и\"', '\"технология\" - \"технологий\"', '\".\" - \".\"']\n"
     ]
    }
   ],
   "source": [
    "# Передаем текст новости в Spacy для разбора, получаем объект документа с результатами разбора.\n",
    "doc = nlp(text_news[0])\n",
    "# Перебираем предложения в тексте. \n",
    "# Но так как мне нужны первые два предложения, я превращаю итерируемый объект sents в список.\n",
    "for s in list(doc.sents)[:2]:\n",
    "    print(list([f'\"{t.lemma_}\" - \"{t.text}\"' for t in s]))"
   ]
  },
  {
   "cell_type": "markdown",
   "metadata": {},
   "source": [
    "Вместе со Spacy ставится библиотека dasplaycy, которая умеет отображать текст в виде деревьев зависимости. Посмотрим на первые два предложения."
   ]
  },
  {
   "cell_type": "code",
   "execution_count": 31,
   "metadata": {},
   "outputs": [
    {
     "data": {
      "text/html": [
       "<span class=\"tex2jax_ignore\"><svg xmlns=\"http://www.w3.org/2000/svg\" xmlns:xlink=\"http://www.w3.org/1999/xlink\" xml:lang=\"ru\" id=\"80796be353714453b39ffa7108305a47-0\" class=\"displacy\" width=\"1940\" height=\"452.0\" direction=\"ltr\" style=\"max-width: none; height: 452.0px; color: #000000; background: #ffffff; font-family: Arial; direction: ltr\"><text class=\"displacy-token\" fill=\"currentColor\" text-anchor=\"middle\" y=\"362.0\"><tspan class=\"displacy-word\" fill=\"currentColor\" x=\"50\">Испытанная</tspan><tspan class=\"displacy-tag\" dy=\"2em\" fill=\"currentColor\" x=\"50\">VERB</tspan></text><text class=\"displacy-token\" fill=\"currentColor\" text-anchor=\"middle\" y=\"362.0\"><tspan class=\"displacy-word\" fill=\"currentColor\" x=\"140\">Украиной</tspan><tspan class=\"displacy-tag\" dy=\"2em\" fill=\"currentColor\" x=\"140\">PROPN</tspan></text><text class=\"displacy-token\" fill=\"currentColor\" text-anchor=\"middle\" y=\"362.0\"><tspan class=\"displacy-word\" fill=\"currentColor\" x=\"230\">первая</tspan><tspan class=\"displacy-tag\" dy=\"2em\" fill=\"currentColor\" x=\"230\">ADJ</tspan></text><text class=\"displacy-token\" fill=\"currentColor\" text-anchor=\"middle\" y=\"362.0\"><tspan class=\"displacy-word\" fill=\"currentColor\" x=\"320\">собственная</tspan><tspan class=\"displacy-tag\" dy=\"2em\" fill=\"currentColor\" x=\"320\">ADJ</tspan></text><text class=\"displacy-token\" fill=\"currentColor\" text-anchor=\"middle\" y=\"362.0\"><tspan class=\"displacy-word\" fill=\"currentColor\" x=\"410\">крылатая</tspan><tspan class=\"displacy-tag\" dy=\"2em\" fill=\"currentColor\" x=\"410\">ADJ</tspan></text><text class=\"displacy-token\" fill=\"currentColor\" text-anchor=\"middle\" y=\"362.0\"><tspan class=\"displacy-word\" fill=\"currentColor\" x=\"500\">ракета</tspan><tspan class=\"displacy-tag\" dy=\"2em\" fill=\"currentColor\" x=\"500\">NOUN</tspan></text><text class=\"displacy-token\" fill=\"currentColor\" text-anchor=\"middle\" y=\"362.0\"><tspan class=\"displacy-word\" fill=\"currentColor\" x=\"590\">создана</tspan><tspan class=\"displacy-tag\" dy=\"2em\" fill=\"currentColor\" x=\"590\">VERB</tspan></text><text class=\"displacy-token\" fill=\"currentColor\" text-anchor=\"middle\" y=\"362.0\"><tspan class=\"displacy-word\" fill=\"currentColor\" x=\"680\">КБ «</tspan><tspan class=\"displacy-tag\" dy=\"2em\" fill=\"currentColor\" x=\"680\">PROPN</tspan></text><text class=\"displacy-token\" fill=\"currentColor\" text-anchor=\"middle\" y=\"362.0\"><tspan class=\"displacy-word\" fill=\"currentColor\" x=\"770\">Луч»</tspan><tspan class=\"displacy-tag\" dy=\"2em\" fill=\"currentColor\" x=\"770\">NOUN</tspan></text><text class=\"displacy-token\" fill=\"currentColor\" text-anchor=\"middle\" y=\"362.0\"><tspan class=\"displacy-word\" fill=\"currentColor\" x=\"860\">в</tspan><tspan class=\"displacy-tag\" dy=\"2em\" fill=\"currentColor\" x=\"860\">ADP</tspan></text><text class=\"displacy-token\" fill=\"currentColor\" text-anchor=\"middle\" y=\"362.0\"><tspan class=\"displacy-word\" fill=\"currentColor\" x=\"950\">рамках</tspan><tspan class=\"displacy-tag\" dy=\"2em\" fill=\"currentColor\" x=\"950\">NOUN</tspan></text><text class=\"displacy-token\" fill=\"currentColor\" text-anchor=\"middle\" y=\"362.0\"><tspan class=\"displacy-word\" fill=\"currentColor\" x=\"1040\">ОКР «</tspan><tspan class=\"displacy-tag\" dy=\"2em\" fill=\"currentColor\" x=\"1040\">PROPN</tspan></text><text class=\"displacy-token\" fill=\"currentColor\" text-anchor=\"middle\" y=\"362.0\"><tspan class=\"displacy-word\" fill=\"currentColor\" x=\"1130\">Нептун»</tspan><tspan class=\"displacy-tag\" dy=\"2em\" fill=\"currentColor\" x=\"1130\">NOUN</tspan></text><text class=\"displacy-token\" fill=\"currentColor\" text-anchor=\"middle\" y=\"362.0\"><tspan class=\"displacy-word\" fill=\"currentColor\" x=\"1220\">на</tspan><tspan class=\"displacy-tag\" dy=\"2em\" fill=\"currentColor\" x=\"1220\">ADP</tspan></text><text class=\"displacy-token\" fill=\"currentColor\" text-anchor=\"middle\" y=\"362.0\"><tspan class=\"displacy-word\" fill=\"currentColor\" x=\"1310\">основе</tspan><tspan class=\"displacy-tag\" dy=\"2em\" fill=\"currentColor\" x=\"1310\">NOUN</tspan></text><text class=\"displacy-token\" fill=\"currentColor\" text-anchor=\"middle\" y=\"362.0\"><tspan class=\"displacy-word\" fill=\"currentColor\" x=\"1400\">российской</tspan><tspan class=\"displacy-tag\" dy=\"2em\" fill=\"currentColor\" x=\"1400\">ADJ</tspan></text><text class=\"displacy-token\" fill=\"currentColor\" text-anchor=\"middle\" y=\"362.0\"><tspan class=\"displacy-word\" fill=\"currentColor\" x=\"1490\">противокорабельной</tspan><tspan class=\"displacy-tag\" dy=\"2em\" fill=\"currentColor\" x=\"1490\">ADJ</tspan></text><text class=\"displacy-token\" fill=\"currentColor\" text-anchor=\"middle\" y=\"362.0\"><tspan class=\"displacy-word\" fill=\"currentColor\" x=\"1580\">ракеты</tspan><tspan class=\"displacy-tag\" dy=\"2em\" fill=\"currentColor\" x=\"1580\">NOUN</tspan></text><text class=\"displacy-token\" fill=\"currentColor\" text-anchor=\"middle\" y=\"362.0\"><tspan class=\"displacy-word\" fill=\"currentColor\" x=\"1670\">3М24</tspan><tspan class=\"displacy-tag\" dy=\"2em\" fill=\"currentColor\" x=\"1670\">PROPN</tspan></text><text class=\"displacy-token\" fill=\"currentColor\" text-anchor=\"middle\" y=\"362.0\"><tspan class=\"displacy-word\" fill=\"currentColor\" x=\"1760\">комплекса</tspan><tspan class=\"displacy-tag\" dy=\"2em\" fill=\"currentColor\" x=\"1760\">NOUN</tspan></text><text class=\"displacy-token\" fill=\"currentColor\" text-anchor=\"middle\" y=\"362.0\"><tspan class=\"displacy-word\" fill=\"currentColor\" x=\"1850\">Х-35У.</tspan><tspan class=\"displacy-tag\" dy=\"2em\" fill=\"currentColor\" x=\"1850\">PUNCT</tspan></text><g class=\"displacy-arrow\"><path class=\"displacy-arc\" id=\"arrow-80796be353714453b39ffa7108305a47-0-0\" stroke-width=\"2px\" d=\"M70,317.0 C70,92.0 490.0,92.0 490.0,317.0\" fill=\"none\" stroke=\"currentColor\"/><text dy=\"1.25em\" style=\"font-size: 0.8em; letter-spacing: 1px\"><textPath xlink:href=\"#arrow-80796be353714453b39ffa7108305a47-0-0\" class=\"displacy-label\" startOffset=\"50%\" side=\"left\" fill=\"currentColor\" text-anchor=\"middle\">acl</textPath></text><path class=\"displacy-arrowhead\" d=\"M70,319.0 L62,307.0 78,307.0\" fill=\"currentColor\"/></g><g class=\"displacy-arrow\"><path class=\"displacy-arc\" id=\"arrow-80796be353714453b39ffa7108305a47-0-1\" stroke-width=\"2px\" d=\"M70,317.0 C70,272.0 110.0,272.0 110.0,317.0\" fill=\"none\" stroke=\"currentColor\"/><text dy=\"1.25em\" style=\"font-size: 0.8em; letter-spacing: 1px\"><textPath xlink:href=\"#arrow-80796be353714453b39ffa7108305a47-0-1\" class=\"displacy-label\" startOffset=\"50%\" side=\"left\" fill=\"currentColor\" text-anchor=\"middle\">obl:agent</textPath></text><path class=\"displacy-arrowhead\" d=\"M110.0,319.0 L118.0,307.0 102.0,307.0\" fill=\"currentColor\"/></g><g class=\"displacy-arrow\"><path class=\"displacy-arc\" id=\"arrow-80796be353714453b39ffa7108305a47-0-2\" stroke-width=\"2px\" d=\"M250,317.0 C250,182.0 480.0,182.0 480.0,317.0\" fill=\"none\" stroke=\"currentColor\"/><text dy=\"1.25em\" style=\"font-size: 0.8em; letter-spacing: 1px\"><textPath xlink:href=\"#arrow-80796be353714453b39ffa7108305a47-0-2\" class=\"displacy-label\" startOffset=\"50%\" side=\"left\" fill=\"currentColor\" text-anchor=\"middle\">amod</textPath></text><path class=\"displacy-arrowhead\" d=\"M250,319.0 L242,307.0 258,307.0\" fill=\"currentColor\"/></g><g class=\"displacy-arrow\"><path class=\"displacy-arc\" id=\"arrow-80796be353714453b39ffa7108305a47-0-3\" stroke-width=\"2px\" d=\"M340,317.0 C340,227.0 475.0,227.0 475.0,317.0\" fill=\"none\" stroke=\"currentColor\"/><text dy=\"1.25em\" style=\"font-size: 0.8em; letter-spacing: 1px\"><textPath xlink:href=\"#arrow-80796be353714453b39ffa7108305a47-0-3\" class=\"displacy-label\" startOffset=\"50%\" side=\"left\" fill=\"currentColor\" text-anchor=\"middle\">amod</textPath></text><path class=\"displacy-arrowhead\" d=\"M340,319.0 L332,307.0 348,307.0\" fill=\"currentColor\"/></g><g class=\"displacy-arrow\"><path class=\"displacy-arc\" id=\"arrow-80796be353714453b39ffa7108305a47-0-4\" stroke-width=\"2px\" d=\"M430,317.0 C430,272.0 470.0,272.0 470.0,317.0\" fill=\"none\" stroke=\"currentColor\"/><text dy=\"1.25em\" style=\"font-size: 0.8em; letter-spacing: 1px\"><textPath xlink:href=\"#arrow-80796be353714453b39ffa7108305a47-0-4\" class=\"displacy-label\" startOffset=\"50%\" side=\"left\" fill=\"currentColor\" text-anchor=\"middle\">amod</textPath></text><path class=\"displacy-arrowhead\" d=\"M430,319.0 L422,307.0 438,307.0\" fill=\"currentColor\"/></g><g class=\"displacy-arrow\"><path class=\"displacy-arc\" id=\"arrow-80796be353714453b39ffa7108305a47-0-5\" stroke-width=\"2px\" d=\"M520,317.0 C520,272.0 560.0,272.0 560.0,317.0\" fill=\"none\" stroke=\"currentColor\"/><text dy=\"1.25em\" style=\"font-size: 0.8em; letter-spacing: 1px\"><textPath xlink:href=\"#arrow-80796be353714453b39ffa7108305a47-0-5\" class=\"displacy-label\" startOffset=\"50%\" side=\"left\" fill=\"currentColor\" text-anchor=\"middle\">nsubj:pass</textPath></text><path class=\"displacy-arrowhead\" d=\"M520,319.0 L512,307.0 528,307.0\" fill=\"currentColor\"/></g><g class=\"displacy-arrow\"><path class=\"displacy-arc\" id=\"arrow-80796be353714453b39ffa7108305a47-0-6\" stroke-width=\"2px\" d=\"M610,317.0 C610,272.0 650.0,272.0 650.0,317.0\" fill=\"none\" stroke=\"currentColor\"/><text dy=\"1.25em\" style=\"font-size: 0.8em; letter-spacing: 1px\"><textPath xlink:href=\"#arrow-80796be353714453b39ffa7108305a47-0-6\" class=\"displacy-label\" startOffset=\"50%\" side=\"left\" fill=\"currentColor\" text-anchor=\"middle\">obl:agent</textPath></text><path class=\"displacy-arrowhead\" d=\"M650.0,319.0 L658.0,307.0 642.0,307.0\" fill=\"currentColor\"/></g><g class=\"displacy-arrow\"><path class=\"displacy-arc\" id=\"arrow-80796be353714453b39ffa7108305a47-0-7\" stroke-width=\"2px\" d=\"M700,317.0 C700,272.0 740.0,272.0 740.0,317.0\" fill=\"none\" stroke=\"currentColor\"/><text dy=\"1.25em\" style=\"font-size: 0.8em; letter-spacing: 1px\"><textPath xlink:href=\"#arrow-80796be353714453b39ffa7108305a47-0-7\" class=\"displacy-label\" startOffset=\"50%\" side=\"left\" fill=\"currentColor\" text-anchor=\"middle\">appos</textPath></text><path class=\"displacy-arrowhead\" d=\"M740.0,319.0 L748.0,307.0 732.0,307.0\" fill=\"currentColor\"/></g><g class=\"displacy-arrow\"><path class=\"displacy-arc\" id=\"arrow-80796be353714453b39ffa7108305a47-0-8\" stroke-width=\"2px\" d=\"M880,317.0 C880,272.0 920.0,272.0 920.0,317.0\" fill=\"none\" stroke=\"currentColor\"/><text dy=\"1.25em\" style=\"font-size: 0.8em; letter-spacing: 1px\"><textPath xlink:href=\"#arrow-80796be353714453b39ffa7108305a47-0-8\" class=\"displacy-label\" startOffset=\"50%\" side=\"left\" fill=\"currentColor\" text-anchor=\"middle\">case</textPath></text><path class=\"displacy-arrowhead\" d=\"M880,319.0 L872,307.0 888,307.0\" fill=\"currentColor\"/></g><g class=\"displacy-arrow\"><path class=\"displacy-arc\" id=\"arrow-80796be353714453b39ffa7108305a47-0-9\" stroke-width=\"2px\" d=\"M610,317.0 C610,137.0 935.0,137.0 935.0,317.0\" fill=\"none\" stroke=\"currentColor\"/><text dy=\"1.25em\" style=\"font-size: 0.8em; letter-spacing: 1px\"><textPath xlink:href=\"#arrow-80796be353714453b39ffa7108305a47-0-9\" class=\"displacy-label\" startOffset=\"50%\" side=\"left\" fill=\"currentColor\" text-anchor=\"middle\">obl</textPath></text><path class=\"displacy-arrowhead\" d=\"M935.0,319.0 L943.0,307.0 927.0,307.0\" fill=\"currentColor\"/></g><g class=\"displacy-arrow\"><path class=\"displacy-arc\" id=\"arrow-80796be353714453b39ffa7108305a47-0-10\" stroke-width=\"2px\" d=\"M970,317.0 C970,272.0 1010.0,272.0 1010.0,317.0\" fill=\"none\" stroke=\"currentColor\"/><text dy=\"1.25em\" style=\"font-size: 0.8em; letter-spacing: 1px\"><textPath xlink:href=\"#arrow-80796be353714453b39ffa7108305a47-0-10\" class=\"displacy-label\" startOffset=\"50%\" side=\"left\" fill=\"currentColor\" text-anchor=\"middle\">nmod</textPath></text><path class=\"displacy-arrowhead\" d=\"M1010.0,319.0 L1018.0,307.0 1002.0,307.0\" fill=\"currentColor\"/></g><g class=\"displacy-arrow\"><path class=\"displacy-arc\" id=\"arrow-80796be353714453b39ffa7108305a47-0-11\" stroke-width=\"2px\" d=\"M1060,317.0 C1060,272.0 1100.0,272.0 1100.0,317.0\" fill=\"none\" stroke=\"currentColor\"/><text dy=\"1.25em\" style=\"font-size: 0.8em; letter-spacing: 1px\"><textPath xlink:href=\"#arrow-80796be353714453b39ffa7108305a47-0-11\" class=\"displacy-label\" startOffset=\"50%\" side=\"left\" fill=\"currentColor\" text-anchor=\"middle\">appos</textPath></text><path class=\"displacy-arrowhead\" d=\"M1100.0,319.0 L1108.0,307.0 1092.0,307.0\" fill=\"currentColor\"/></g><g class=\"displacy-arrow\"><path class=\"displacy-arc\" id=\"arrow-80796be353714453b39ffa7108305a47-0-12\" stroke-width=\"2px\" d=\"M1240,317.0 C1240,272.0 1280.0,272.0 1280.0,317.0\" fill=\"none\" stroke=\"currentColor\"/><text dy=\"1.25em\" style=\"font-size: 0.8em; letter-spacing: 1px\"><textPath xlink:href=\"#arrow-80796be353714453b39ffa7108305a47-0-12\" class=\"displacy-label\" startOffset=\"50%\" side=\"left\" fill=\"currentColor\" text-anchor=\"middle\">case</textPath></text><path class=\"displacy-arrowhead\" d=\"M1240,319.0 L1232,307.0 1248,307.0\" fill=\"currentColor\"/></g><g class=\"displacy-arrow\"><path class=\"displacy-arc\" id=\"arrow-80796be353714453b39ffa7108305a47-0-13\" stroke-width=\"2px\" d=\"M610,317.0 C610,47.0 1305.0,47.0 1305.0,317.0\" fill=\"none\" stroke=\"currentColor\"/><text dy=\"1.25em\" style=\"font-size: 0.8em; letter-spacing: 1px\"><textPath xlink:href=\"#arrow-80796be353714453b39ffa7108305a47-0-13\" class=\"displacy-label\" startOffset=\"50%\" side=\"left\" fill=\"currentColor\" text-anchor=\"middle\">obl</textPath></text><path class=\"displacy-arrowhead\" d=\"M1305.0,319.0 L1313.0,307.0 1297.0,307.0\" fill=\"currentColor\"/></g><g class=\"displacy-arrow\"><path class=\"displacy-arc\" id=\"arrow-80796be353714453b39ffa7108305a47-0-14\" stroke-width=\"2px\" d=\"M1420,317.0 C1420,227.0 1555.0,227.0 1555.0,317.0\" fill=\"none\" stroke=\"currentColor\"/><text dy=\"1.25em\" style=\"font-size: 0.8em; letter-spacing: 1px\"><textPath xlink:href=\"#arrow-80796be353714453b39ffa7108305a47-0-14\" class=\"displacy-label\" startOffset=\"50%\" side=\"left\" fill=\"currentColor\" text-anchor=\"middle\">amod</textPath></text><path class=\"displacy-arrowhead\" d=\"M1420,319.0 L1412,307.0 1428,307.0\" fill=\"currentColor\"/></g><g class=\"displacy-arrow\"><path class=\"displacy-arc\" id=\"arrow-80796be353714453b39ffa7108305a47-0-15\" stroke-width=\"2px\" d=\"M1510,317.0 C1510,272.0 1550.0,272.0 1550.0,317.0\" fill=\"none\" stroke=\"currentColor\"/><text dy=\"1.25em\" style=\"font-size: 0.8em; letter-spacing: 1px\"><textPath xlink:href=\"#arrow-80796be353714453b39ffa7108305a47-0-15\" class=\"displacy-label\" startOffset=\"50%\" side=\"left\" fill=\"currentColor\" text-anchor=\"middle\">amod</textPath></text><path class=\"displacy-arrowhead\" d=\"M1510,319.0 L1502,307.0 1518,307.0\" fill=\"currentColor\"/></g><g class=\"displacy-arrow\"><path class=\"displacy-arc\" id=\"arrow-80796be353714453b39ffa7108305a47-0-16\" stroke-width=\"2px\" d=\"M1330,317.0 C1330,182.0 1560.0,182.0 1560.0,317.0\" fill=\"none\" stroke=\"currentColor\"/><text dy=\"1.25em\" style=\"font-size: 0.8em; letter-spacing: 1px\"><textPath xlink:href=\"#arrow-80796be353714453b39ffa7108305a47-0-16\" class=\"displacy-label\" startOffset=\"50%\" side=\"left\" fill=\"currentColor\" text-anchor=\"middle\">nmod</textPath></text><path class=\"displacy-arrowhead\" d=\"M1560.0,319.0 L1568.0,307.0 1552.0,307.0\" fill=\"currentColor\"/></g><g class=\"displacy-arrow\"><path class=\"displacy-arc\" id=\"arrow-80796be353714453b39ffa7108305a47-0-17\" stroke-width=\"2px\" d=\"M1600,317.0 C1600,272.0 1640.0,272.0 1640.0,317.0\" fill=\"none\" stroke=\"currentColor\"/><text dy=\"1.25em\" style=\"font-size: 0.8em; letter-spacing: 1px\"><textPath xlink:href=\"#arrow-80796be353714453b39ffa7108305a47-0-17\" class=\"displacy-label\" startOffset=\"50%\" side=\"left\" fill=\"currentColor\" text-anchor=\"middle\">appos</textPath></text><path class=\"displacy-arrowhead\" d=\"M1640.0,319.0 L1648.0,307.0 1632.0,307.0\" fill=\"currentColor\"/></g><g class=\"displacy-arrow\"><path class=\"displacy-arc\" id=\"arrow-80796be353714453b39ffa7108305a47-0-18\" stroke-width=\"2px\" d=\"M1600,317.0 C1600,227.0 1735.0,227.0 1735.0,317.0\" fill=\"none\" stroke=\"currentColor\"/><text dy=\"1.25em\" style=\"font-size: 0.8em; letter-spacing: 1px\"><textPath xlink:href=\"#arrow-80796be353714453b39ffa7108305a47-0-18\" class=\"displacy-label\" startOffset=\"50%\" side=\"left\" fill=\"currentColor\" text-anchor=\"middle\">nmod</textPath></text><path class=\"displacy-arrowhead\" d=\"M1735.0,319.0 L1743.0,307.0 1727.0,307.0\" fill=\"currentColor\"/></g><g class=\"displacy-arrow\"><path class=\"displacy-arc\" id=\"arrow-80796be353714453b39ffa7108305a47-0-19\" stroke-width=\"2px\" d=\"M610,317.0 C610,2.0 1850.0,2.0 1850.0,317.0\" fill=\"none\" stroke=\"currentColor\"/><text dy=\"1.25em\" style=\"font-size: 0.8em; letter-spacing: 1px\"><textPath xlink:href=\"#arrow-80796be353714453b39ffa7108305a47-0-19\" class=\"displacy-label\" startOffset=\"50%\" side=\"left\" fill=\"currentColor\" text-anchor=\"middle\">punct</textPath></text><path class=\"displacy-arrowhead\" d=\"M1850.0,319.0 L1858.0,307.0 1842.0,307.0\" fill=\"currentColor\"/></g></svg></span>"
      ],
      "text/plain": [
       "<IPython.core.display.HTML object>"
      ]
     },
     "metadata": {},
     "output_type": "display_data"
    },
    {
     "data": {
      "text/html": [
       "<span class=\"tex2jax_ignore\"><svg xmlns=\"http://www.w3.org/2000/svg\" xmlns:xlink=\"http://www.w3.org/1999/xlink\" xml:lang=\"ru\" id=\"be5f3c7588b24de8b274bdba094cafb0-0\" class=\"displacy\" width=\"1400\" height=\"272.0\" direction=\"ltr\" style=\"max-width: none; height: 272.0px; color: #000000; background: #ffffff; font-family: Arial; direction: ltr\"><text class=\"displacy-token\" fill=\"currentColor\" text-anchor=\"middle\" y=\"182.0\"><tspan class=\"displacy-word\" fill=\"currentColor\" x=\"50\">Об</tspan><tspan class=\"displacy-tag\" dy=\"2em\" fill=\"currentColor\" x=\"50\">ADP</tspan></text><text class=\"displacy-token\" fill=\"currentColor\" text-anchor=\"middle\" y=\"182.0\"><tspan class=\"displacy-word\" fill=\"currentColor\" x=\"140\">этом</tspan><tspan class=\"displacy-tag\" dy=\"2em\" fill=\"currentColor\" x=\"140\">PRON</tspan></text><text class=\"displacy-token\" fill=\"currentColor\" text-anchor=\"middle\" y=\"182.0\"><tspan class=\"displacy-word\" fill=\"currentColor\" x=\"230\">пишет</tspan><tspan class=\"displacy-tag\" dy=\"2em\" fill=\"currentColor\" x=\"230\">VERB</tspan></text><text class=\"displacy-token\" fill=\"currentColor\" text-anchor=\"middle\" y=\"182.0\"><tspan class=\"displacy-word\" fill=\"currentColor\" x=\"320\">военный</tspan><tspan class=\"displacy-tag\" dy=\"2em\" fill=\"currentColor\" x=\"320\">ADJ</tspan></text><text class=\"displacy-token\" fill=\"currentColor\" text-anchor=\"middle\" y=\"182.0\"><tspan class=\"displacy-word\" fill=\"currentColor\" x=\"410\">блог</tspan><tspan class=\"displacy-tag\" dy=\"2em\" fill=\"currentColor\" x=\"410\">NOUN</tspan></text><text class=\"displacy-token\" fill=\"currentColor\" text-anchor=\"middle\" y=\"182.0\"><tspan class=\"displacy-word\" fill=\"currentColor\" x=\"500\">bmpd,</tspan><tspan class=\"displacy-tag\" dy=\"2em\" fill=\"currentColor\" x=\"500\">X</tspan></text><text class=\"displacy-token\" fill=\"currentColor\" text-anchor=\"middle\" y=\"182.0\"><tspan class=\"displacy-word\" fill=\"currentColor\" x=\"590\">который</tspan><tspan class=\"displacy-tag\" dy=\"2em\" fill=\"currentColor\" x=\"590\">PRON</tspan></text><text class=\"displacy-token\" fill=\"currentColor\" text-anchor=\"middle\" y=\"182.0\"><tspan class=\"displacy-word\" fill=\"currentColor\" x=\"680\">ведут</tspan><tspan class=\"displacy-tag\" dy=\"2em\" fill=\"currentColor\" x=\"680\">VERB</tspan></text><text class=\"displacy-token\" fill=\"currentColor\" text-anchor=\"middle\" y=\"182.0\"><tspan class=\"displacy-word\" fill=\"currentColor\" x=\"770\">сотрудники</tspan><tspan class=\"displacy-tag\" dy=\"2em\" fill=\"currentColor\" x=\"770\">NOUN</tspan></text><text class=\"displacy-token\" fill=\"currentColor\" text-anchor=\"middle\" y=\"182.0\"><tspan class=\"displacy-word\" fill=\"currentColor\" x=\"860\">московского</tspan><tspan class=\"displacy-tag\" dy=\"2em\" fill=\"currentColor\" x=\"860\">ADJ</tspan></text><text class=\"displacy-token\" fill=\"currentColor\" text-anchor=\"middle\" y=\"182.0\"><tspan class=\"displacy-word\" fill=\"currentColor\" x=\"950\">Центра</tspan><tspan class=\"displacy-tag\" dy=\"2em\" fill=\"currentColor\" x=\"950\">PROPN</tspan></text><text class=\"displacy-token\" fill=\"currentColor\" text-anchor=\"middle\" y=\"182.0\"><tspan class=\"displacy-word\" fill=\"currentColor\" x=\"1040\">анализа</tspan><tspan class=\"displacy-tag\" dy=\"2em\" fill=\"currentColor\" x=\"1040\">NOUN</tspan></text><text class=\"displacy-token\" fill=\"currentColor\" text-anchor=\"middle\" y=\"182.0\"><tspan class=\"displacy-word\" fill=\"currentColor\" x=\"1130\">стратегий</tspan><tspan class=\"displacy-tag\" dy=\"2em\" fill=\"currentColor\" x=\"1130\">NOUN</tspan></text><text class=\"displacy-token\" fill=\"currentColor\" text-anchor=\"middle\" y=\"182.0\"><tspan class=\"displacy-word\" fill=\"currentColor\" x=\"1220\">и</tspan><tspan class=\"displacy-tag\" dy=\"2em\" fill=\"currentColor\" x=\"1220\">CCONJ</tspan></text><text class=\"displacy-token\" fill=\"currentColor\" text-anchor=\"middle\" y=\"182.0\"><tspan class=\"displacy-word\" fill=\"currentColor\" x=\"1310\">технологий.</tspan><tspan class=\"displacy-tag\" dy=\"2em\" fill=\"currentColor\" x=\"1310\">NOUN</tspan></text><g class=\"displacy-arrow\"><path class=\"displacy-arc\" id=\"arrow-be5f3c7588b24de8b274bdba094cafb0-0-0\" stroke-width=\"2px\" d=\"M70,137.0 C70,92.0 130.0,92.0 130.0,137.0\" fill=\"none\" stroke=\"currentColor\"/><text dy=\"1.25em\" style=\"font-size: 0.8em; letter-spacing: 1px\"><textPath xlink:href=\"#arrow-be5f3c7588b24de8b274bdba094cafb0-0-0\" class=\"displacy-label\" startOffset=\"50%\" side=\"left\" fill=\"currentColor\" text-anchor=\"middle\">case</textPath></text><path class=\"displacy-arrowhead\" d=\"M70,139.0 L62,127.0 78,127.0\" fill=\"currentColor\"/></g><g class=\"displacy-arrow\"><path class=\"displacy-arc\" id=\"arrow-be5f3c7588b24de8b274bdba094cafb0-0-1\" stroke-width=\"2px\" d=\"M160,137.0 C160,92.0 220.0,92.0 220.0,137.0\" fill=\"none\" stroke=\"currentColor\"/><text dy=\"1.25em\" style=\"font-size: 0.8em; letter-spacing: 1px\"><textPath xlink:href=\"#arrow-be5f3c7588b24de8b274bdba094cafb0-0-1\" class=\"displacy-label\" startOffset=\"50%\" side=\"left\" fill=\"currentColor\" text-anchor=\"middle\">obl</textPath></text><path class=\"displacy-arrowhead\" d=\"M160,139.0 L152,127.0 168,127.0\" fill=\"currentColor\"/></g><g class=\"displacy-arrow\"><path class=\"displacy-arc\" id=\"arrow-be5f3c7588b24de8b274bdba094cafb0-0-2\" stroke-width=\"2px\" d=\"M340,137.0 C340,92.0 400.0,92.0 400.0,137.0\" fill=\"none\" stroke=\"currentColor\"/><text dy=\"1.25em\" style=\"font-size: 0.8em; letter-spacing: 1px\"><textPath xlink:href=\"#arrow-be5f3c7588b24de8b274bdba094cafb0-0-2\" class=\"displacy-label\" startOffset=\"50%\" side=\"left\" fill=\"currentColor\" text-anchor=\"middle\">amod</textPath></text><path class=\"displacy-arrowhead\" d=\"M340,139.0 L332,127.0 348,127.0\" fill=\"currentColor\"/></g><g class=\"displacy-arrow\"><path class=\"displacy-arc\" id=\"arrow-be5f3c7588b24de8b274bdba094cafb0-0-3\" stroke-width=\"2px\" d=\"M250,137.0 C250,47.0 405.0,47.0 405.0,137.0\" fill=\"none\" stroke=\"currentColor\"/><text dy=\"1.25em\" style=\"font-size: 0.8em; letter-spacing: 1px\"><textPath xlink:href=\"#arrow-be5f3c7588b24de8b274bdba094cafb0-0-3\" class=\"displacy-label\" startOffset=\"50%\" side=\"left\" fill=\"currentColor\" text-anchor=\"middle\">nsubj</textPath></text><path class=\"displacy-arrowhead\" d=\"M405.0,139.0 L413.0,127.0 397.0,127.0\" fill=\"currentColor\"/></g><g class=\"displacy-arrow\"><path class=\"displacy-arc\" id=\"arrow-be5f3c7588b24de8b274bdba094cafb0-0-4\" stroke-width=\"2px\" d=\"M430,137.0 C430,92.0 490.0,92.0 490.0,137.0\" fill=\"none\" stroke=\"currentColor\"/><text dy=\"1.25em\" style=\"font-size: 0.8em; letter-spacing: 1px\"><textPath xlink:href=\"#arrow-be5f3c7588b24de8b274bdba094cafb0-0-4\" class=\"displacy-label\" startOffset=\"50%\" side=\"left\" fill=\"currentColor\" text-anchor=\"middle\">appos</textPath></text><path class=\"displacy-arrowhead\" d=\"M490.0,139.0 L498.0,127.0 482.0,127.0\" fill=\"currentColor\"/></g><g class=\"displacy-arrow\"><path class=\"displacy-arc\" id=\"arrow-be5f3c7588b24de8b274bdba094cafb0-0-5\" stroke-width=\"2px\" d=\"M610,137.0 C610,92.0 670.0,92.0 670.0,137.0\" fill=\"none\" stroke=\"currentColor\"/><text dy=\"1.25em\" style=\"font-size: 0.8em; letter-spacing: 1px\"><textPath xlink:href=\"#arrow-be5f3c7588b24de8b274bdba094cafb0-0-5\" class=\"displacy-label\" startOffset=\"50%\" side=\"left\" fill=\"currentColor\" text-anchor=\"middle\">obj</textPath></text><path class=\"displacy-arrowhead\" d=\"M610,139.0 L602,127.0 618,127.0\" fill=\"currentColor\"/></g><g class=\"displacy-arrow\"><path class=\"displacy-arc\" id=\"arrow-be5f3c7588b24de8b274bdba094cafb0-0-6\" stroke-width=\"2px\" d=\"M430,137.0 C430,2.0 680.0,2.0 680.0,137.0\" fill=\"none\" stroke=\"currentColor\"/><text dy=\"1.25em\" style=\"font-size: 0.8em; letter-spacing: 1px\"><textPath xlink:href=\"#arrow-be5f3c7588b24de8b274bdba094cafb0-0-6\" class=\"displacy-label\" startOffset=\"50%\" side=\"left\" fill=\"currentColor\" text-anchor=\"middle\">acl:relcl</textPath></text><path class=\"displacy-arrowhead\" d=\"M680.0,139.0 L688.0,127.0 672.0,127.0\" fill=\"currentColor\"/></g><g class=\"displacy-arrow\"><path class=\"displacy-arc\" id=\"arrow-be5f3c7588b24de8b274bdba094cafb0-0-7\" stroke-width=\"2px\" d=\"M700,137.0 C700,92.0 760.0,92.0 760.0,137.0\" fill=\"none\" stroke=\"currentColor\"/><text dy=\"1.25em\" style=\"font-size: 0.8em; letter-spacing: 1px\"><textPath xlink:href=\"#arrow-be5f3c7588b24de8b274bdba094cafb0-0-7\" class=\"displacy-label\" startOffset=\"50%\" side=\"left\" fill=\"currentColor\" text-anchor=\"middle\">nsubj</textPath></text><path class=\"displacy-arrowhead\" d=\"M760.0,139.0 L768.0,127.0 752.0,127.0\" fill=\"currentColor\"/></g><g class=\"displacy-arrow\"><path class=\"displacy-arc\" id=\"arrow-be5f3c7588b24de8b274bdba094cafb0-0-8\" stroke-width=\"2px\" d=\"M880,137.0 C880,92.0 940.0,92.0 940.0,137.0\" fill=\"none\" stroke=\"currentColor\"/><text dy=\"1.25em\" style=\"font-size: 0.8em; letter-spacing: 1px\"><textPath xlink:href=\"#arrow-be5f3c7588b24de8b274bdba094cafb0-0-8\" class=\"displacy-label\" startOffset=\"50%\" side=\"left\" fill=\"currentColor\" text-anchor=\"middle\">amod</textPath></text><path class=\"displacy-arrowhead\" d=\"M880,139.0 L872,127.0 888,127.0\" fill=\"currentColor\"/></g><g class=\"displacy-arrow\"><path class=\"displacy-arc\" id=\"arrow-be5f3c7588b24de8b274bdba094cafb0-0-9\" stroke-width=\"2px\" d=\"M790,137.0 C790,47.0 945.0,47.0 945.0,137.0\" fill=\"none\" stroke=\"currentColor\"/><text dy=\"1.25em\" style=\"font-size: 0.8em; letter-spacing: 1px\"><textPath xlink:href=\"#arrow-be5f3c7588b24de8b274bdba094cafb0-0-9\" class=\"displacy-label\" startOffset=\"50%\" side=\"left\" fill=\"currentColor\" text-anchor=\"middle\">nmod</textPath></text><path class=\"displacy-arrowhead\" d=\"M945.0,139.0 L953.0,127.0 937.0,127.0\" fill=\"currentColor\"/></g><g class=\"displacy-arrow\"><path class=\"displacy-arc\" id=\"arrow-be5f3c7588b24de8b274bdba094cafb0-0-10\" stroke-width=\"2px\" d=\"M970,137.0 C970,92.0 1030.0,92.0 1030.0,137.0\" fill=\"none\" stroke=\"currentColor\"/><text dy=\"1.25em\" style=\"font-size: 0.8em; letter-spacing: 1px\"><textPath xlink:href=\"#arrow-be5f3c7588b24de8b274bdba094cafb0-0-10\" class=\"displacy-label\" startOffset=\"50%\" side=\"left\" fill=\"currentColor\" text-anchor=\"middle\">nmod</textPath></text><path class=\"displacy-arrowhead\" d=\"M1030.0,139.0 L1038.0,127.0 1022.0,127.0\" fill=\"currentColor\"/></g><g class=\"displacy-arrow\"><path class=\"displacy-arc\" id=\"arrow-be5f3c7588b24de8b274bdba094cafb0-0-11\" stroke-width=\"2px\" d=\"M1060,137.0 C1060,92.0 1120.0,92.0 1120.0,137.0\" fill=\"none\" stroke=\"currentColor\"/><text dy=\"1.25em\" style=\"font-size: 0.8em; letter-spacing: 1px\"><textPath xlink:href=\"#arrow-be5f3c7588b24de8b274bdba094cafb0-0-11\" class=\"displacy-label\" startOffset=\"50%\" side=\"left\" fill=\"currentColor\" text-anchor=\"middle\">nmod</textPath></text><path class=\"displacy-arrowhead\" d=\"M1120.0,139.0 L1128.0,127.0 1112.0,127.0\" fill=\"currentColor\"/></g><g class=\"displacy-arrow\"><path class=\"displacy-arc\" id=\"arrow-be5f3c7588b24de8b274bdba094cafb0-0-12\" stroke-width=\"2px\" d=\"M1240,137.0 C1240,92.0 1300.0,92.0 1300.0,137.0\" fill=\"none\" stroke=\"currentColor\"/><text dy=\"1.25em\" style=\"font-size: 0.8em; letter-spacing: 1px\"><textPath xlink:href=\"#arrow-be5f3c7588b24de8b274bdba094cafb0-0-12\" class=\"displacy-label\" startOffset=\"50%\" side=\"left\" fill=\"currentColor\" text-anchor=\"middle\">cc</textPath></text><path class=\"displacy-arrowhead\" d=\"M1240,139.0 L1232,127.0 1248,127.0\" fill=\"currentColor\"/></g><g class=\"displacy-arrow\"><path class=\"displacy-arc\" id=\"arrow-be5f3c7588b24de8b274bdba094cafb0-0-13\" stroke-width=\"2px\" d=\"M1150,137.0 C1150,47.0 1305.0,47.0 1305.0,137.0\" fill=\"none\" stroke=\"currentColor\"/><text dy=\"1.25em\" style=\"font-size: 0.8em; letter-spacing: 1px\"><textPath xlink:href=\"#arrow-be5f3c7588b24de8b274bdba094cafb0-0-13\" class=\"displacy-label\" startOffset=\"50%\" side=\"left\" fill=\"currentColor\" text-anchor=\"middle\">conj</textPath></text><path class=\"displacy-arrowhead\" d=\"M1305.0,139.0 L1313.0,127.0 1297.0,127.0\" fill=\"currentColor\"/></g></svg></span>"
      ],
      "text/plain": [
       "<IPython.core.display.HTML object>"
      ]
     },
     "metadata": {},
     "output_type": "display_data"
    }
   ],
   "source": [
    "for s in list(doc.sents)[:2]:\n",
    "    displacy.render(s, style=\"dep\", minify=True, jupyter=True, options={\"distance\":90})"
   ]
  },
  {
   "cell_type": "markdown",
   "metadata": {},
   "source": [
    "Для предложения определено свойство `root`, которое является корневой вершиной предложения.  \n",
    "Помимо леммы и токена, каждая вершина хранит список потомков `children`, список родителей `ancestors`, вид зависимости (роль слова при родителе) `dep_`, часть речи `tag_`."
   ]
  },
  {
   "cell_type": "code",
   "execution_count": 32,
   "metadata": {},
   "outputs": [
    {
     "name": "stdout",
     "output_type": "stream",
     "text": [
      "создана [ракета, КБ, рамках, основе, Х-35У.]\n",
      "ракета ракета nsubj:pass NOUN -> создана\n"
     ]
    }
   ],
   "source": [
    "sent0 = list(doc.sents)[0]\n",
    "childs0 = list(sent0.root.children)\n",
    "print(sent0.root, childs0)\n",
    "print(childs0[0].lemma_, childs0[0].text, childs0[0].dep_, childs0[0].tag_, '->', list(childs0[0].ancestors)[0])"
   ]
  },
  {
   "cell_type": "markdown",
   "metadata": {},
   "source": [
    "Решим ту же задачу с поиском эмоционально окрашенных слов в новостях."
   ]
  },
  {
   "cell_type": "code",
   "execution_count": 34,
   "metadata": {},
   "outputs": [],
   "source": [
    "# Поиск эмоионально окрашенных потомков для SpaCy.\n",
    "def find_sentiments_spacy(node, senti_words, sentiments):\n",
    "    for child in node.children:\n",
    "        if child.lemma_ in senti_words.keys():\n",
    "            if node.lemma_ not in sentiments.keys():\n",
    "                sentiments[node.lemma_] = defaultdict(int)\n",
    "            sentiments[node.lemma_][senti_words[child.lemma_]] += 1\n"
   ]
  },
  {
   "cell_type": "code",
   "execution_count": 35,
   "metadata": {},
   "outputs": [
    {
     "data": {
      "text/plain": [
       "{'являться': defaultdict(int, {'neutral': 1}),\n",
       " 'уделяться': defaultdict(int, {'positive': 1}),\n",
       " 'провести': defaultdict(int, {'neutral': 1})}"
      ]
     },
     "execution_count": 35,
     "metadata": {},
     "output_type": "execute_result"
    }
   ],
   "source": [
    "# Перебираем все прдложения первой новости и ищем эмоционально окрашенные слова.\n",
    "sentiments = {}\n",
    "for sent in doc.sents:\n",
    "    find_sentiments_spacy(sent.root, senti_words, sentiments)\n",
    "sentiments"
   ]
  },
  {
   "cell_type": "code",
   "execution_count": 36,
   "metadata": {},
   "outputs": [
    {
     "data": {
      "application/vnd.jupyter.widget-view+json": {
       "model_id": "7f5819d0cc8546bba2c189a931bd78b5",
       "version_major": 2,
       "version_minor": 0
      },
      "text/plain": [
       "HBox(children=(FloatProgress(value=0.0, max=1708.0), HTML(value='')))"
      ]
     },
     "metadata": {},
     "output_type": "display_data"
    },
    {
     "name": "stdout",
     "output_type": "stream",
     "text": [
      "\n"
     ]
    }
   ],
   "source": [
    "# Найдем все эмоционально окрашенные фразы во всех новостях.\n",
    "sentiments = {}\n",
    "for sent_text in tqdm(text_news):\n",
    "    doc = nlp(sent_text)\n",
    "    for sent in doc.sents:\n",
    "        find_sentiments_spacy(sent.root, senti_words, sentiments)\n"
   ]
  },
  {
   "cell_type": "markdown",
   "metadata": {},
   "source": [
    "Как вы можете видеть, SpaCy работает быстрее (так как я использовал модель с повышеной скоростью, а не с повышенной точностью), но результаты работы несколько отличаются. Это означает, что SpaCy возвращает деревья другой структуры."
   ]
  },
  {
   "cell_type": "code",
   "execution_count": 40,
   "metadata": {
    "scrolled": false
   },
   "outputs": [
    {
     "data": {
      "text/plain": [
       "([('признать',\n",
       "   defaultdict(int, {'negative': 48, 'positive': 8, 'neutral': 2})),\n",
       "  ('стать',\n",
       "   defaultdict(int,\n",
       "               {'negative': 40,\n",
       "                'positive': 35,\n",
       "                'neutral': 17,\n",
       "                'positive/negative': 1})),\n",
       "  ('мочь',\n",
       "   defaultdict(int,\n",
       "               {'negative': 36,\n",
       "                'positive': 19,\n",
       "                'neutral': 11,\n",
       "                'positive/negative': 3,\n",
       "                'пострадать': 1})),\n",
       "  ('произойти',\n",
       "   defaultdict(int,\n",
       "               {'negative': 58,\n",
       "                'positive/negative': 2,\n",
       "                'neutral': 5,\n",
       "                'positive': 1}))],\n",
       " '\\n----\\n',\n",
       " [('принять', defaultdict(int, {'positive': 38, 'neutral': 4, 'negative': 5})),\n",
       "  ('обратить',\n",
       "   defaultdict(int, {'positive': 63, 'neutral': 1, 'negative': 2})),\n",
       "  ('стать',\n",
       "   defaultdict(int,\n",
       "               {'negative': 40,\n",
       "                'positive': 35,\n",
       "                'neutral': 17,\n",
       "                'positive/negative': 1}))])"
      ]
     },
     "execution_count": 40,
     "metadata": {},
     "output_type": "execute_result"
    }
   ],
   "source": [
    "[(senti, vals) for senti,vals in sentiments.items() if vals['negative']>30], '\\n----\\n',\\\n",
    "[(senti, vals) for senti,vals in sentiments.items() if vals['positive']>30]"
   ]
  },
  {
   "cell_type": "code",
   "execution_count": null,
   "metadata": {},
   "outputs": [],
   "source": []
  }
 ],
 "metadata": {
  "kernelspec": {
   "display_name": "Python 3 (ipykernel)",
   "language": "python",
   "name": "python3"
  },
  "language_info": {
   "codemirror_mode": {
    "name": "ipython",
    "version": 3
   },
   "file_extension": ".py",
   "mimetype": "text/x-python",
   "name": "python",
   "nbconvert_exporter": "python",
   "pygments_lexer": "ipython3",
   "version": "3.9.5"
  }
 },
 "nbformat": 4,
 "nbformat_minor": 2
}
