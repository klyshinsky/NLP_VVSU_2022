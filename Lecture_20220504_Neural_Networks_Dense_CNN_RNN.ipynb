{
 "cells": [
  {
   "cell_type": "markdown",
   "metadata": {},
   "source": [
    "# Функции потерь"
   ]
  },
  {
   "cell_type": "markdown",
   "metadata": {},
   "source": [
    "\n",
    "#### 1. (R)MSE ((Root) Mean Squared Error)\n",
    "\n",
    "$$ L(\\hat{y}, y) = \\frac{1}{N}\\sum\\limits_n^N (y_n - \\hat{y}_n)^2$$\n",
    "\n",
    "#### 2. MAE (Mean Absolute Error)\n",
    "\n",
    "$$ L(\\hat{y}, y) = \\frac{1}{N}\\sum\\limits_n^N |y_n - \\hat{y}_n|$$\n"
   ]
  },
  {
   "cell_type": "markdown",
   "metadata": {},
   "source": [
    "**3. RSE (Relative Squared Error)**\n",
    "\n",
    "$$ L(\\hat{y}, y) = \\sqrt\\frac{\\sum\\limits_n^N (y_n - \\hat{y}_n)^2}{\\sum\\limits_n^N (y_n - \\bar{y})^2}$$\n",
    "\n",
    "**4. RAE (Relative Absolute Error)**\n",
    "\n",
    "$$ L(\\hat{y}, y) = \\frac{\\sum\\limits_n^N |y_n - \\hat{y}_n|}{\\sum\\limits_n^N |y_n - \\bar{y}|}$$\n",
    "\n",
    "**5. MAPE (Mean Absolute Persentage Error)**\n",
    "\n",
    "$$ L(\\hat{y}, y) = \\frac{100}{N} \\sum\\limits_n^N\\left|\\frac{ y_n - \\hat{y}_n}{y_n}\\right|$$\n",
    "\n",
    "\n"
   ]
  },
  {
   "cell_type": "markdown",
   "metadata": {},
   "source": [
    "**6. RMSLE (Root Mean Squared Logarithmic Error)**\n",
    "\n",
    "$$ L(\\hat{y}, y) = \\sqrt{\\frac{1}{N}\\sum\\limits_n^N(\\log(y_n + 1) - \\log(\\hat{y}_n + 1))^2}$$"
   ]
  },
  {
   "cell_type": "markdown",
   "metadata": {},
   "source": [
    "# Искусственные нейронные сети"
   ]
  },
  {
   "cell_type": "markdown",
   "metadata": {},
   "source": [
    "Считываем набор данных цифр MNIST."
   ]
  },
  {
   "cell_type": "code",
   "execution_count": 1,
   "metadata": {},
   "outputs": [],
   "source": [
    "from sklearn.datasets import load_digits\n",
    "import matplotlib.pyplot as plt\n",
    "from sklearn.model_selection import train_test_split\n",
    "from sklearn.metrics import confusion_matrix, precision_recall_fscore_support, accuracy_score\n",
    "import numpy as np"
   ]
  },
  {
   "cell_type": "code",
   "execution_count": 2,
   "metadata": {},
   "outputs": [],
   "source": [
    "digits = load_digits()"
   ]
  },
  {
   "cell_type": "code",
   "execution_count": 3,
   "metadata": {},
   "outputs": [
    {
     "data": {
      "image/png": "[encoded data removed]",
      "text/plain": [
       "<Figure size 432x288 with 1 Axes>"
      ]
     },
     "metadata": {
      "needs_background": "light"
     },
     "output_type": "display_data"
    }
   ],
   "source": [
    "img = digits.images\n",
    "plt.imshow(img[1], cmap=plt.cm.Greys_r);"
   ]
  },
  {
   "cell_type": "code",
   "execution_count": 4,
   "metadata": {},
   "outputs": [],
   "source": [
    "X = img.reshape(-1, 64)\n",
    "y = digits.target\n",
    "train_x, test_x, train_y, test_y = train_test_split(X, y, test_size=0.2)\n",
    "test_y = test_y.reshape(1, -1)"
   ]
  },
  {
   "cell_type": "markdown",
   "metadata": {},
   "source": [
    "Персептрон из библиотеки [sklearn](https://scikit-learn.org/stable/modules/generated/sklearn.neural_network.MLPClassifier.html?highlight=mlpclassifier#sklearn.neural_network.MLPClassifier)."
   ]
  },
  {
   "cell_type": "code",
   "execution_count": 5,
   "metadata": {},
   "outputs": [],
   "source": [
    "from sklearn.neural_network import MLPClassifier"
   ]
  },
  {
   "cell_type": "code",
   "execution_count": 14,
   "metadata": {},
   "outputs": [],
   "source": [
    "model = MLPClassifier((128, 64), activation='relu')"
   ]
  },
  {
   "cell_type": "code",
   "execution_count": 15,
   "metadata": {},
   "outputs": [
    {
     "data": {
      "text/plain": [
       "array([1, 3, 3, ..., 3, 4, 4])"
      ]
     },
     "execution_count": 15,
     "metadata": {},
     "output_type": "execute_result"
    }
   ],
   "source": [
    "train_y"
   ]
  },
  {
   "cell_type": "code",
   "execution_count": 16,
   "metadata": {},
   "outputs": [
    {
     "data": {
      "text/plain": [
       "MLPClassifier(activation='relu', alpha=0.0001, batch_size='auto', beta_1=0.9,\n",
       "              beta_2=0.999, early_stopping=False, epsilon=1e-08,\n",
       "              hidden_layer_sizes=(128, 64), learning_rate='constant',\n",
       "              learning_rate_init=0.001, max_iter=200, momentum=0.9,\n",
       "              n_iter_no_change=10, nesterovs_momentum=True, power_t=0.5,\n",
       "              random_state=None, shuffle=True, solver='adam', tol=0.0001,\n",
       "              validation_fraction=0.1, verbose=False, warm_start=False)"
      ]
     },
     "execution_count": 16,
     "metadata": {},
     "output_type": "execute_result"
    }
   ],
   "source": [
    "model.fit(train_x, train_y)"
   ]
  },
  {
   "cell_type": "code",
   "execution_count": 17,
   "metadata": {},
   "outputs": [],
   "source": [
    "y_hat = model.predict(test_x)"
   ]
  },
  {
   "cell_type": "code",
   "execution_count": 18,
   "metadata": {},
   "outputs": [
    {
     "data": {
      "text/plain": [
       "array([9, 0, 8, 9, 0, 3, 0, 0, 7, 1, 7, 1, 0, 0, 1, 7, 0, 1, 7, 8, 0, 4,\n",
       "       3, 6, 0, 2, 5, 0, 0, 9, 8, 6, 1, 1, 3, 3, 0, 1, 7, 9, 4, 2, 9, 5,\n",
       "       6, 1, 4, 8, 3, 6, 4, 2, 1, 2, 8, 4, 0, 8, 4, 5, 9, 2, 0, 0, 6, 4,\n",
       "       9, 6, 7, 0, 0, 6, 5, 4, 7, 8, 5, 3, 4, 9, 1, 7, 5, 6, 7, 3, 7, 2,\n",
       "       4, 6, 1, 5, 9, 6, 9, 3, 8, 3, 0, 3, 2, 1, 3, 0, 6, 0, 2, 4, 9, 5,\n",
       "       0, 7, 7, 0, 1, 8, 5, 0, 2, 0, 9, 3, 0, 0, 4, 6, 3, 3, 8, 6, 3, 6,\n",
       "       2, 5, 3, 4, 8, 6, 2, 6, 0, 4, 7, 1, 4, 0, 8, 3, 4, 2, 8, 6, 7, 6,\n",
       "       9, 8, 3, 5, 1, 8, 9, 1, 3, 1, 3, 2, 9, 0, 7, 0, 7, 8, 8, 9, 2, 4,\n",
       "       0, 2, 1, 7, 4, 5, 8, 6, 9, 6, 6, 8, 2, 1, 5, 7, 1, 4, 8, 5, 9, 2,\n",
       "       7, 1, 8, 7, 8, 8, 7, 5, 9, 6, 7, 3, 6, 8, 1, 2, 9, 8, 9, 4, 2, 3,\n",
       "       6, 3, 7, 6, 6, 5, 3, 8, 0, 4, 8, 6, 5, 9, 8, 3, 5, 1, 9, 0, 8, 3,\n",
       "       7, 0, 1, 3, 2, 1, 1, 3, 3, 2, 0, 7, 5, 0, 5, 7, 4, 2, 6, 4, 7, 6,\n",
       "       3, 0, 3, 0, 5, 3, 5, 8, 1, 9, 6, 7, 2, 2, 4, 3, 8, 9, 5, 4, 7, 2,\n",
       "       7, 4, 8, 5, 1, 7, 2, 9, 5, 2, 9, 7, 0, 3, 9, 8, 8, 4, 5, 2, 5, 1,\n",
       "       9, 1, 4, 9, 0, 4, 1, 0, 7, 8, 1, 9, 0, 1, 1, 0, 6, 5, 2, 3, 2, 3,\n",
       "       0, 1, 8, 8, 0, 0, 8, 8, 4, 1, 2, 7, 3, 6, 7, 6, 4, 5, 3, 5, 9, 0,\n",
       "       1, 1, 6, 1, 3, 5, 4, 1])"
      ]
     },
     "execution_count": 18,
     "metadata": {},
     "output_type": "execute_result"
    }
   ],
   "source": [
    "y_hat"
   ]
  },
  {
   "cell_type": "code",
   "execution_count": 19,
   "metadata": {},
   "outputs": [
    {
     "data": {
      "text/plain": [
       "array([[47,  0,  0,  0,  0,  0,  0,  0,  0,  0],\n",
       "       [ 0, 36,  0,  0,  0,  0,  0,  0,  0,  0],\n",
       "       [ 0,  0, 31,  0,  0,  0,  0,  1,  0,  0],\n",
       "       [ 0,  0,  0, 39,  0,  1,  0,  0,  0,  0],\n",
       "       [ 0,  0,  0,  0, 31,  0,  0,  0,  0,  0],\n",
       "       [ 0,  1,  0,  0,  1, 30,  0,  0,  0,  0],\n",
       "       [ 0,  0,  0,  0,  0,  0, 34,  0,  0,  0],\n",
       "       [ 0,  0,  0,  0,  0,  0,  0, 34,  0,  1],\n",
       "       [ 0,  3,  0,  0,  0,  0,  0,  0, 39,  0],\n",
       "       [ 0,  0,  0,  0,  0,  0,  0,  0,  0, 31]])"
      ]
     },
     "execution_count": 19,
     "metadata": {},
     "output_type": "execute_result"
    }
   ],
   "source": [
    "confusion_matrix(test_y.reshape(-1), y_hat)"
   ]
  },
  {
   "cell_type": "code",
   "execution_count": 20,
   "metadata": {},
   "outputs": [
    {
     "data": {
      "text/plain": [
       "(array([1.        , 0.9       , 1.        , 1.        , 0.96875   ,\n",
       "        0.96774194, 1.        , 0.97142857, 1.        , 0.96875   ]),\n",
       " array([1.        , 1.        , 0.96875   , 0.975     , 1.        ,\n",
       "        0.9375    , 1.        , 0.97142857, 0.92857143, 1.        ]),\n",
       " array([1.        , 0.94736842, 0.98412698, 0.98734177, 0.98412698,\n",
       "        0.95238095, 1.        , 0.97142857, 0.96296296, 0.98412698]),\n",
       " array([47, 36, 32, 40, 31, 32, 34, 35, 42, 31]))"
      ]
     },
     "execution_count": 20,
     "metadata": {},
     "output_type": "execute_result"
    }
   ],
   "source": [
    "precision_recall_fscore_support(test_y.reshape(-1), y_hat)"
   ]
  },
  {
   "cell_type": "code",
   "execution_count": 21,
   "metadata": {},
   "outputs": [
    {
     "data": {
      "text/plain": [
       "0.9777777777777777"
      ]
     },
     "execution_count": 21,
     "metadata": {},
     "output_type": "execute_result"
    }
   ],
   "source": [
    "accuracy_score(test_y.reshape(-1), y_hat)"
   ]
  },
  {
   "cell_type": "code",
   "execution_count": 37,
   "metadata": {},
   "outputs": [
    {
     "data": {
      "text/plain": [
       "['__abstractmethods__',\n",
       " '__class__',\n",
       " '__delattr__',\n",
       " '__dict__',\n",
       " '__dir__',\n",
       " '__doc__',\n",
       " '__eq__',\n",
       " '__format__',\n",
       " '__ge__',\n",
       " '__getattribute__',\n",
       " '__getstate__',\n",
       " '__gt__',\n",
       " '__hash__',\n",
       " '__init__',\n",
       " '__init_subclass__',\n",
       " '__le__',\n",
       " '__lt__',\n",
       " '__module__',\n",
       " '__ne__',\n",
       " '__new__',\n",
       " '__reduce__',\n",
       " '__reduce_ex__',\n",
       " '__repr__',\n",
       " '__setattr__',\n",
       " '__setstate__',\n",
       " '__sizeof__',\n",
       " '__str__',\n",
       " '__subclasshook__',\n",
       " '__weakref__',\n",
       " '_abc_cache',\n",
       " '_abc_negative_cache',\n",
       " '_abc_negative_cache_version',\n",
       " '_abc_registry',\n",
       " '_backprop',\n",
       " '_compute_loss_grad',\n",
       " '_estimator_type',\n",
       " '_fit',\n",
       " '_fit_lbfgs',\n",
       " '_fit_stochastic',\n",
       " '_forward_pass',\n",
       " '_get_param_names',\n",
       " '_get_tags',\n",
       " '_init_coef',\n",
       " '_initialize',\n",
       " '_loss_grad_lbfgs',\n",
       " '_partial_fit',\n",
       " '_predict',\n",
       " '_unpack',\n",
       " '_update_no_improvement_count',\n",
       " '_validate_hyperparameters',\n",
       " '_validate_input',\n",
       " 'activation',\n",
       " 'alpha',\n",
       " 'batch_size',\n",
       " 'beta_1',\n",
       " 'beta_2',\n",
       " 'early_stopping',\n",
       " 'epsilon',\n",
       " 'fit',\n",
       " 'get_params',\n",
       " 'hidden_layer_sizes',\n",
       " 'learning_rate',\n",
       " 'learning_rate_init',\n",
       " 'loss',\n",
       " 'max_iter',\n",
       " 'momentum',\n",
       " 'n_iter_no_change',\n",
       " 'nesterovs_momentum',\n",
       " 'partial_fit',\n",
       " 'power_t',\n",
       " 'predict',\n",
       " 'predict_log_proba',\n",
       " 'predict_proba',\n",
       " 'random_state',\n",
       " 'score',\n",
       " 'set_params',\n",
       " 'shuffle',\n",
       " 'solver',\n",
       " 'tol',\n",
       " 'validation_fraction',\n",
       " 'verbose',\n",
       " 'warm_start']"
      ]
     },
     "execution_count": 37,
     "metadata": {},
     "output_type": "execute_result"
    }
   ],
   "source": [
    "dir(model)"
   ]
  },
  {
   "cell_type": "code",
   "execution_count": 239,
   "metadata": {},
   "outputs": [
    {
     "data": {
      "text/plain": [
       "(3, 64)"
      ]
     },
     "execution_count": 239,
     "metadata": {},
     "output_type": "execute_result"
    }
   ],
   "source": [
    "len(model.coefs_), len(model.coefs_[0])"
   ]
  },
  {
   "cell_type": "code",
   "execution_count": 376,
   "metadata": {},
   "outputs": [
    {
     "data": {
      "text/plain": [
       "array([[-3.61047115e-04,  6.82383477e-08, -3.35580641e-03,\n",
       "         4.10279976e-02, -5.29807778e-02, -1.01026908e-01,\n",
       "        -1.28125074e-12,  6.20409165e-05],\n",
       "       [ 3.99671037e-04, -1.21226659e-12, -1.77193330e-02,\n",
       "         4.03372272e-02, -1.43856173e-01, -9.74830613e-02,\n",
       "        -3.27070842e-03,  5.10893961e-04],\n",
       "       [ 7.14595151e-05,  3.26888675e-02, -1.24170868e-01,\n",
       "        -1.24974547e-03, -7.06546826e-03,  1.53197840e-01,\n",
       "        -2.87188207e-12,  2.77389003e-13],\n",
       "       [-2.93796762e-07,  1.22580850e-01, -6.94314953e-02,\n",
       "         1.23171173e-01, -5.88514028e-02,  1.02602869e-01,\n",
       "        -1.05466531e-01, -3.82677341e-04],\n",
       "       [-8.68085447e-07,  9.71840908e-02,  1.70385071e-02,\n",
       "        -7.48480014e-02, -5.36987651e-02, -1.30958999e-01,\n",
       "        -4.28452120e-02,  5.00351366e-04],\n",
       "       [-1.10774637e-08,  1.22686278e-01,  1.21035401e-02,\n",
       "        -3.48196376e-03,  1.89765413e-02, -5.89808628e-02,\n",
       "        -6.43448481e-03, -1.05262900e-15],\n",
       "       [ 3.96034607e-16, -3.51558959e-15, -4.62718969e-02,\n",
       "        -1.72711777e-01, -6.43740559e-02,  5.19227202e-02,\n",
       "         1.67423039e-01, -3.69948674e-15],\n",
       "       [ 1.06325843e-03,  1.05895761e-03, -1.94556657e-03,\n",
       "         1.27430893e-01, -1.56204548e-01, -9.97320370e-02,\n",
       "         5.94590976e-02,  2.07241238e-04]])"
      ]
     },
     "execution_count": 376,
     "metadata": {},
     "output_type": "execute_result"
    }
   ],
   "source": [
    "model.coefs_[0][:, 10].reshape((8, -1))"
   ]
  },
  {
   "cell_type": "code",
   "execution_count": 375,
   "metadata": {},
   "outputs": [
    {
     "data": {
      "image/png": "[encoded data removed]",
      "text/plain": [
       "<Figure size 432x288 with 1 Axes>"
      ]
     },
     "metadata": {
      "needs_background": "light"
     },
     "output_type": "display_data"
    }
   ],
   "source": [
    "plt.imshow(model.coefs_[0][:, 10].reshape((8, -1)), cmap=plt.cm.Greys_r);"
   ]
  },
  {
   "cell_type": "code",
   "execution_count": null,
   "metadata": {},
   "outputs": [],
   "source": []
  },
  {
   "cell_type": "code",
   "execution_count": null,
   "metadata": {},
   "outputs": [],
   "source": []
  },
  {
   "cell_type": "markdown",
   "metadata": {},
   "source": [
    "Теперь попробуем сверточные и рекуррентные сети из Keras"
   ]
  },
  {
   "cell_type": "code",
   "execution_count": 23,
   "metadata": {},
   "outputs": [],
   "source": [
    "from tensorflow import keras\n",
    "from tensorflow.keras import layers\n",
    "from tensorflow.keras import Sequential"
   ]
  },
  {
   "cell_type": "markdown",
   "metadata": {},
   "source": [
    "Хорошо, сперва полносвязанная сеть."
   ]
  },
  {
   "cell_type": "code",
   "execution_count": 24,
   "metadata": {},
   "outputs": [],
   "source": [
    "model = keras.Sequential()\n",
    "model.add(layers.Dense(128, activation=\"tanh\", kernel_regularizer=keras.regularizers.l2(0.001)))\n",
    "model.add(layers.Dense(128, activation=\"tanh\", kernel_regularizer=keras.regularizers.l2(0.001)))\n",
    "model.add(layers.Dense(10, activation=\"softmax\"))\n",
    "model.compile(keras.optimizers.SGD(learning_rate=0.001), \n",
    "          keras.losses.MeanSquaredError(reduction='sum'),\n",
    "          metrics=['accuracy']\n",
    "         )\n"
   ]
  },
  {
   "cell_type": "code",
   "execution_count": 25,
   "metadata": {},
   "outputs": [],
   "source": [
    "train_y2 = []\n",
    "for y in train_y:\n",
    "    y2 = np.zeros(10)\n",
    "    y2[y] = 1\n",
    "    train_y2.append(y2)\n",
    "    \n",
    "test_y2 = []\n",
    "for y in test_y:\n",
    "    y2 = np.zeros(10)\n",
    "    y2[y] = 1\n",
    "    test_y2.append(y2)\n",
    "    \n",
    "train_y2 = np.array(train_y2)\n",
    "test_y2 = np.array(test_y2)"
   ]
  },
  {
   "cell_type": "code",
   "execution_count": 26,
   "metadata": {},
   "outputs": [
    {
     "data": {
      "text/plain": [
       "array([[0., 1., 0., ..., 0., 0., 0.],\n",
       "       [0., 0., 0., ..., 0., 0., 0.],\n",
       "       [0., 0., 0., ..., 0., 0., 0.],\n",
       "       ...,\n",
       "       [0., 0., 0., ..., 0., 0., 0.],\n",
       "       [0., 0., 0., ..., 0., 0., 0.],\n",
       "       [0., 0., 0., ..., 0., 0., 0.]])"
      ]
     },
     "execution_count": 26,
     "metadata": {},
     "output_type": "execute_result"
    }
   ],
   "source": [
    "train_y2"
   ]
  },
  {
   "cell_type": "code",
   "execution_count": 27,
   "metadata": {
    "scrolled": true
   },
   "outputs": [
    {
     "name": "stdout",
     "output_type": "stream",
     "text": [
      "Epoch 1/200\n",
      "288/288 [==============================] - 1s 2ms/step - loss: 0.6915 - accuracy: 0.0919\n",
      "Epoch 2/200\n",
      "288/288 [==============================] - 0s 1ms/step - loss: 0.6650 - accuracy: 0.1809\n",
      "Epoch 3/200\n",
      "288/288 [==============================] - 0s 1ms/step - loss: 0.6402 - accuracy: 0.2617\n",
      "Epoch 4/200\n",
      "288/288 [==============================] - 0s 1ms/step - loss: 0.6166 - accuracy: 0.3368\n",
      "Epoch 5/200\n",
      "288/288 [==============================] - 0s 1ms/step - loss: 0.5935 - accuracy: 0.4113\n",
      "Epoch 6/200\n",
      "288/288 [==============================] - 0s 1ms/step - loss: 0.5698 - accuracy: 0.4774\n",
      "Epoch 7/200\n",
      "288/288 [==============================] - 0s 1ms/step - loss: 0.5457 - accuracy: 0.5477\n",
      "Epoch 8/200\n",
      "288/288 [==============================] - 0s 1ms/step - loss: 0.5210 - accuracy: 0.6006\n",
      "Epoch 9/200\n",
      "288/288 [==============================] - 0s 1ms/step - loss: 0.4980 - accuracy: 0.6409\n",
      "Epoch 10/200\n",
      "288/288 [==============================] - 0s 1ms/step - loss: 0.4773 - accuracy: 0.6722\n",
      "Epoch 11/200\n",
      "288/288 [==============================] - 0s 1ms/step - loss: 0.4586 - accuracy: 0.7063\n",
      "Epoch 12/200\n",
      "288/288 [==============================] - 0s 1ms/step - loss: 0.4411 - accuracy: 0.7432\n",
      "Epoch 13/200\n",
      "288/288 [==============================] - 0s 1ms/step - loss: 0.4243 - accuracy: 0.7731\n",
      "Epoch 14/200\n",
      "288/288 [==============================] - 0s 1ms/step - loss: 0.4087 - accuracy: 0.8003\n",
      "Epoch 15/200\n",
      "288/288 [==============================] - 0s 1ms/step - loss: 0.3945 - accuracy: 0.8225\n",
      "Epoch 16/200\n",
      "288/288 [==============================] - 0s 1ms/step - loss: 0.3819 - accuracy: 0.8406\n",
      "Epoch 17/200\n",
      "288/288 [==============================] - 0s 1ms/step - loss: 0.3710 - accuracy: 0.8490\n",
      "Epoch 18/200\n",
      "288/288 [==============================] - 0s 1ms/step - loss: 0.3612 - accuracy: 0.8608\n",
      "Epoch 19/200\n",
      "288/288 [==============================] - 0s 1ms/step - loss: 0.3521 - accuracy: 0.8733\n",
      "Epoch 20/200\n",
      "288/288 [==============================] - 0s 1ms/step - loss: 0.3445 - accuracy: 0.8796\n",
      "Epoch 21/200\n",
      "288/288 [==============================] - 0s 1ms/step - loss: 0.3374 - accuracy: 0.8894\n",
      "Epoch 22/200\n",
      "288/288 [==============================] - 0s 1ms/step - loss: 0.3306 - accuracy: 0.8963\n",
      "Epoch 23/200\n",
      "288/288 [==============================] - 0s 1ms/step - loss: 0.3249 - accuracy: 0.8977\n",
      "Epoch 24/200\n",
      "288/288 [==============================] - 0s 1ms/step - loss: 0.3194 - accuracy: 0.9019\n",
      "Epoch 25/200\n",
      "288/288 [==============================] - 0s 1ms/step - loss: 0.3145 - accuracy: 0.9061\n",
      "Epoch 26/200\n",
      "288/288 [==============================] - 0s 2ms/step - loss: 0.3098 - accuracy: 0.9109\n",
      "Epoch 27/200\n",
      "288/288 [==============================] - 0s 1ms/step - loss: 0.3055 - accuracy: 0.9144\n",
      "Epoch 28/200\n",
      "288/288 [==============================] - 0s 1ms/step - loss: 0.3013 - accuracy: 0.9172\n",
      "Epoch 29/200\n",
      "288/288 [==============================] - 0s 1ms/step - loss: 0.2978 - accuracy: 0.9193\n",
      "Epoch 30/200\n",
      "288/288 [==============================] - 0s 1ms/step - loss: 0.2941 - accuracy: 0.9221\n",
      "Epoch 31/200\n",
      "288/288 [==============================] - 0s 1ms/step - loss: 0.2910 - accuracy: 0.9248\n",
      "Epoch 32/200\n",
      "288/288 [==============================] - 0s 1ms/step - loss: 0.2880 - accuracy: 0.9297\n",
      "Epoch 33/200\n",
      "288/288 [==============================] - 0s 1ms/step - loss: 0.2851 - accuracy: 0.9318\n",
      "Epoch 34/200\n",
      "288/288 [==============================] - 0s 1ms/step - loss: 0.2823 - accuracy: 0.9339\n",
      "Epoch 35/200\n",
      "288/288 [==============================] - 0s 1ms/step - loss: 0.2797 - accuracy: 0.9402\n",
      "Epoch 36/200\n",
      "288/288 [==============================] - 0s 1ms/step - loss: 0.2773 - accuracy: 0.9408\n",
      "Epoch 37/200\n",
      "288/288 [==============================] - 0s 1ms/step - loss: 0.2750 - accuracy: 0.9450\n",
      "Epoch 38/200\n",
      "288/288 [==============================] - 0s 1ms/step - loss: 0.2728 - accuracy: 0.9471\n",
      "Epoch 39/200\n",
      "288/288 [==============================] - 0s 2ms/step - loss: 0.2707 - accuracy: 0.9492\n",
      "Epoch 40/200\n",
      "288/288 [==============================] - 0s 1ms/step - loss: 0.2687 - accuracy: 0.9506\n",
      "Epoch 41/200\n",
      "288/288 [==============================] - 0s 1ms/step - loss: 0.2667 - accuracy: 0.9513\n",
      "Epoch 42/200\n",
      "288/288 [==============================] - 0s 1ms/step - loss: 0.2649 - accuracy: 0.9520\n",
      "Epoch 43/200\n",
      "288/288 [==============================] - 0s 1ms/step - loss: 0.2630 - accuracy: 0.9534\n",
      "Epoch 44/200\n",
      "288/288 [==============================] - 0s 1ms/step - loss: 0.2614 - accuracy: 0.9548\n",
      "Epoch 45/200\n",
      "288/288 [==============================] - 0s 1ms/step - loss: 0.2598 - accuracy: 0.9576\n",
      "Epoch 46/200\n",
      "288/288 [==============================] - 0s 1ms/step - loss: 0.2583 - accuracy: 0.9610\n",
      "Epoch 47/200\n",
      "288/288 [==============================] - 0s 1ms/step - loss: 0.2568 - accuracy: 0.9617\n",
      "Epoch 48/200\n",
      "288/288 [==============================] - 0s 1ms/step - loss: 0.2553 - accuracy: 0.9638\n",
      "Epoch 49/200\n",
      "288/288 [==============================] - 0s 1ms/step - loss: 0.2539 - accuracy: 0.9631\n",
      "Epoch 50/200\n",
      "288/288 [==============================] - 0s 1ms/step - loss: 0.2525 - accuracy: 0.9638\n",
      "Epoch 51/200\n",
      "288/288 [==============================] - 0s 1ms/step - loss: 0.2512 - accuracy: 0.9645\n",
      "Epoch 52/200\n",
      "288/288 [==============================] - 0s 1ms/step - loss: 0.2499 - accuracy: 0.9652\n",
      "Epoch 53/200\n",
      "288/288 [==============================] - 0s 2ms/step - loss: 0.2488 - accuracy: 0.9680\n",
      "Epoch 54/200\n",
      "288/288 [==============================] - 0s 2ms/step - loss: 0.2476 - accuracy: 0.9687\n",
      "Epoch 55/200\n",
      "288/288 [==============================] - 0s 2ms/step - loss: 0.2464 - accuracy: 0.9694\n",
      "Epoch 56/200\n",
      "288/288 [==============================] - 0s 1ms/step - loss: 0.2452 - accuracy: 0.9708\n",
      "Epoch 57/200\n",
      "288/288 [==============================] - 0s 1ms/step - loss: 0.2442 - accuracy: 0.9701\n",
      "Epoch 58/200\n",
      "288/288 [==============================] - 0s 1ms/step - loss: 0.2432 - accuracy: 0.9708\n",
      "Epoch 59/200\n",
      "288/288 [==============================] - 0s 2ms/step - loss: 0.2421 - accuracy: 0.9715\n",
      "Epoch 60/200\n",
      "288/288 [==============================] - 0s 2ms/step - loss: 0.2411 - accuracy: 0.9729\n",
      "Epoch 61/200\n",
      "288/288 [==============================] - 0s 1ms/step - loss: 0.2402 - accuracy: 0.9743\n",
      "Epoch 62/200\n",
      "288/288 [==============================] - 0s 971us/step - loss: 0.2392 - accuracy: 0.9736\n",
      "Epoch 63/200\n",
      "288/288 [==============================] - 0s 1ms/step - loss: 0.2383 - accuracy: 0.9749\n",
      "Epoch 64/200\n",
      "288/288 [==============================] - 0s 1ms/step - loss: 0.2374 - accuracy: 0.9756\n",
      "Epoch 65/200\n",
      "288/288 [==============================] - 0s 1ms/step - loss: 0.2364 - accuracy: 0.9763\n",
      "Epoch 66/200\n",
      "288/288 [==============================] - 0s 1ms/step - loss: 0.2357 - accuracy: 0.9770\n",
      "Epoch 67/200\n",
      "288/288 [==============================] - 0s 1ms/step - loss: 0.2349 - accuracy: 0.9784\n",
      "Epoch 68/200\n",
      "288/288 [==============================] - 0s 1ms/step - loss: 0.2340 - accuracy: 0.9791\n",
      "Epoch 69/200\n",
      "288/288 [==============================] - 0s 1ms/step - loss: 0.2332 - accuracy: 0.9798\n",
      "Epoch 70/200\n",
      "288/288 [==============================] - 0s 1ms/step - loss: 0.2325 - accuracy: 0.9805\n",
      "Epoch 71/200\n",
      "288/288 [==============================] - 0s 1ms/step - loss: 0.2317 - accuracy: 0.9798\n",
      "Epoch 72/200\n",
      "288/288 [==============================] - 0s 1ms/step - loss: 0.2310 - accuracy: 0.9826\n",
      "Epoch 73/200\n",
      "288/288 [==============================] - 0s 1ms/step - loss: 0.2302 - accuracy: 0.9819\n",
      "Epoch 74/200\n",
      "288/288 [==============================] - 0s 1ms/step - loss: 0.2295 - accuracy: 0.9826\n",
      "Epoch 75/200\n",
      "288/288 [==============================] - 0s 1ms/step - loss: 0.2288 - accuracy: 0.9826\n",
      "Epoch 76/200\n",
      "288/288 [==============================] - 0s 1ms/step - loss: 0.2281 - accuracy: 0.9826\n",
      "Epoch 77/200\n",
      "288/288 [==============================] - 0s 1ms/step - loss: 0.2274 - accuracy: 0.9833\n",
      "Epoch 78/200\n",
      "288/288 [==============================] - 0s 991us/step - loss: 0.2268 - accuracy: 0.9833\n",
      "Epoch 79/200\n",
      "288/288 [==============================] - 0s 1ms/step - loss: 0.2259 - accuracy: 0.9840\n",
      "Epoch 80/200\n",
      "288/288 [==============================] - 0s 1ms/step - loss: 0.2252 - accuracy: 0.9854\n",
      "Epoch 81/200\n",
      "288/288 [==============================] - 0s 1ms/step - loss: 0.2249 - accuracy: 0.9861\n",
      "Epoch 82/200\n",
      "288/288 [==============================] - 0s 1ms/step - loss: 0.2243 - accuracy: 0.9861\n",
      "Epoch 83/200\n",
      "288/288 [==============================] - 0s 982us/step - loss: 0.2236 - accuracy: 0.9868\n",
      "Epoch 84/200\n",
      "288/288 [==============================] - 0s 918us/step - loss: 0.2230 - accuracy: 0.98680s - loss: 0.2232 - accuracy: 0.98\n",
      "Epoch 85/200\n",
      "288/288 [==============================] - 0s 900us/step - loss: 0.2225 - accuracy: 0.9875\n",
      "Epoch 86/200\n",
      "288/288 [==============================] - 0s 1ms/step - loss: 0.2219 - accuracy: 0.9868\n",
      "Epoch 87/200\n",
      "288/288 [==============================] - 0s 1ms/step - loss: 0.2213 - accuracy: 0.9875\n",
      "Epoch 88/200\n",
      "288/288 [==============================] - 0s 1ms/step - loss: 0.2208 - accuracy: 0.9875\n",
      "Epoch 89/200\n",
      "288/288 [==============================] - 0s 970us/step - loss: 0.2202 - accuracy: 0.9889\n",
      "Epoch 90/200\n",
      "288/288 [==============================] - 0s 898us/step - loss: 0.2197 - accuracy: 0.9889\n",
      "Epoch 91/200\n",
      "288/288 [==============================] - 0s 1ms/step - loss: 0.2191 - accuracy: 0.9882\n",
      "Epoch 92/200\n",
      "288/288 [==============================] - 0s 1ms/step - loss: 0.2186 - accuracy: 0.9889\n",
      "Epoch 93/200\n",
      "288/288 [==============================] - 0s 996us/step - loss: 0.2181 - accuracy: 0.9896\n",
      "Epoch 94/200\n",
      "288/288 [==============================] - 0s 984us/step - loss: 0.2176 - accuracy: 0.9896\n",
      "Epoch 95/200\n",
      "288/288 [==============================] - 0s 1ms/step - loss: 0.2171 - accuracy: 0.9896\n",
      "Epoch 96/200\n",
      "288/288 [==============================] - 0s 1ms/step - loss: 0.2166 - accuracy: 0.9903\n",
      "Epoch 97/200\n",
      "288/288 [==============================] - 0s 1ms/step - loss: 0.2161 - accuracy: 0.9896\n",
      "Epoch 98/200\n",
      "288/288 [==============================] - 0s 1ms/step - loss: 0.2156 - accuracy: 0.9896\n",
      "Epoch 99/200\n",
      "288/288 [==============================] - 0s 1ms/step - loss: 0.2151 - accuracy: 0.9903\n",
      "Epoch 100/200\n",
      "288/288 [==============================] - 0s 1ms/step - loss: 0.2147 - accuracy: 0.9903\n",
      "Epoch 101/200\n",
      "288/288 [==============================] - 0s 1ms/step - loss: 0.2142 - accuracy: 0.9910\n",
      "Epoch 102/200\n",
      "288/288 [==============================] - 0s 999us/step - loss: 0.2135 - accuracy: 0.9910\n",
      "Epoch 103/200\n",
      "288/288 [==============================] - 0s 973us/step - loss: 0.2133 - accuracy: 0.9910\n",
      "Epoch 104/200\n",
      "288/288 [==============================] - 0s 1ms/step - loss: 0.2128 - accuracy: 0.9910\n",
      "Epoch 105/200\n",
      "288/288 [==============================] - 0s 1ms/step - loss: 0.2124 - accuracy: 0.9910\n",
      "Epoch 106/200\n",
      "288/288 [==============================] - 0s 1ms/step - loss: 0.2120 - accuracy: 0.9910\n",
      "Epoch 107/200\n",
      "288/288 [==============================] - 0s 1ms/step - loss: 0.2115 - accuracy: 0.9916\n",
      "Epoch 108/200\n",
      "288/288 [==============================] - 0s 1ms/step - loss: 0.2111 - accuracy: 0.9916\n",
      "Epoch 109/200\n",
      "288/288 [==============================] - 0s 2ms/step - loss: 0.2107 - accuracy: 0.9916\n",
      "Epoch 110/200\n",
      "288/288 [==============================] - 0s 1ms/step - loss: 0.2102 - accuracy: 0.9916\n",
      "Epoch 111/200\n",
      "288/288 [==============================] - 0s 1ms/step - loss: 0.2099 - accuracy: 0.9916\n",
      "Epoch 112/200\n",
      "288/288 [==============================] - 0s 1ms/step - loss: 0.2094 - accuracy: 0.9923\n",
      "Epoch 113/200\n",
      "288/288 [==============================] - 0s 1ms/step - loss: 0.2090 - accuracy: 0.9923\n",
      "Epoch 114/200\n",
      "288/288 [==============================] - 0s 1ms/step - loss: 0.2086 - accuracy: 0.9923\n",
      "Epoch 115/200\n",
      "288/288 [==============================] - 0s 1ms/step - loss: 0.2082 - accuracy: 0.9923\n",
      "Epoch 116/200\n",
      "288/288 [==============================] - 0s 1ms/step - loss: 0.2078 - accuracy: 0.9923\n",
      "Epoch 117/200\n",
      "288/288 [==============================] - 0s 1ms/step - loss: 0.2075 - accuracy: 0.9923\n",
      "Epoch 118/200\n",
      "288/288 [==============================] - 0s 1ms/step - loss: 0.2071 - accuracy: 0.9923\n",
      "Epoch 119/200\n",
      "288/288 [==============================] - 0s 1ms/step - loss: 0.2067 - accuracy: 0.9930\n",
      "Epoch 120/200\n",
      "288/288 [==============================] - 0s 1ms/step - loss: 0.2063 - accuracy: 0.9930\n",
      "Epoch 121/200\n",
      "288/288 [==============================] - 0s 1ms/step - loss: 0.2059 - accuracy: 0.9930\n",
      "Epoch 122/200\n",
      "288/288 [==============================] - 0s 1ms/step - loss: 0.2056 - accuracy: 0.9930\n",
      "Epoch 123/200\n",
      "288/288 [==============================] - 0s 1ms/step - loss: 0.2052 - accuracy: 0.9930\n",
      "Epoch 124/200\n",
      "288/288 [==============================] - 0s 1ms/step - loss: 0.2048 - accuracy: 0.9930\n",
      "Epoch 125/200\n",
      "288/288 [==============================] - 0s 1ms/step - loss: 0.2044 - accuracy: 0.9937\n",
      "Epoch 126/200\n",
      "288/288 [==============================] - 0s 1ms/step - loss: 0.2041 - accuracy: 0.9937\n",
      "Epoch 127/200\n",
      "288/288 [==============================] - 0s 1ms/step - loss: 0.2037 - accuracy: 0.9937\n",
      "Epoch 128/200\n",
      "288/288 [==============================] - 0s 959us/step - loss: 0.2034 - accuracy: 0.9937\n",
      "Epoch 129/200\n",
      "288/288 [==============================] - 0s 1ms/step - loss: 0.2030 - accuracy: 0.9937\n",
      "Epoch 130/200\n",
      "288/288 [==============================] - 0s 1ms/step - loss: 0.2027 - accuracy: 0.9937\n",
      "Epoch 131/200\n",
      "288/288 [==============================] - 0s 1ms/step - loss: 0.2023 - accuracy: 0.9937\n",
      "Epoch 132/200\n",
      "288/288 [==============================] - 0s 1ms/step - loss: 0.2020 - accuracy: 0.9937\n",
      "Epoch 133/200\n",
      "288/288 [==============================] - 0s 1ms/step - loss: 0.2017 - accuracy: 0.9937\n",
      "Epoch 134/200\n",
      "288/288 [==============================] - 0s 1ms/step - loss: 0.2013 - accuracy: 0.9937\n",
      "Epoch 135/200\n",
      "288/288 [==============================] - 0s 1ms/step - loss: 0.2010 - accuracy: 0.9937\n",
      "Epoch 136/200\n",
      "288/288 [==============================] - 0s 1ms/step - loss: 0.2007 - accuracy: 0.9937\n",
      "Epoch 137/200\n",
      "288/288 [==============================] - 0s 1ms/step - loss: 0.2003 - accuracy: 0.9937\n",
      "Epoch 138/200\n",
      "288/288 [==============================] - 0s 1ms/step - loss: 0.2000 - accuracy: 0.9937\n",
      "Epoch 139/200\n",
      "288/288 [==============================] - 0s 1ms/step - loss: 0.1996 - accuracy: 0.9937\n",
      "Epoch 140/200\n",
      "288/288 [==============================] - 0s 1ms/step - loss: 0.1993 - accuracy: 0.9937\n",
      "Epoch 141/200\n",
      "288/288 [==============================] - 0s 1ms/step - loss: 0.1990 - accuracy: 0.9937\n",
      "Epoch 142/200\n",
      "288/288 [==============================] - 0s 1ms/step - loss: 0.1987 - accuracy: 0.9937\n",
      "Epoch 143/200\n",
      "288/288 [==============================] - 0s 1ms/step - loss: 0.1984 - accuracy: 0.9937\n",
      "Epoch 144/200\n",
      "288/288 [==============================] - 0s 1ms/step - loss: 0.1981 - accuracy: 0.9944\n",
      "Epoch 145/200\n",
      "288/288 [==============================] - 0s 1ms/step - loss: 0.1977 - accuracy: 0.9944\n",
      "Epoch 146/200\n",
      "288/288 [==============================] - 0s 1ms/step - loss: 0.1974 - accuracy: 0.9944\n",
      "Epoch 147/200\n",
      "288/288 [==============================] - 0s 983us/step - loss: 0.1971 - accuracy: 0.9944\n",
      "Epoch 148/200\n",
      "288/288 [==============================] - 0s 1ms/step - loss: 0.1968 - accuracy: 0.9944\n",
      "Epoch 149/200\n",
      "288/288 [==============================] - 0s 1ms/step - loss: 0.1965 - accuracy: 0.9944\n",
      "Epoch 150/200\n",
      "288/288 [==============================] - 0s 1ms/step - loss: 0.1962 - accuracy: 0.9944\n",
      "Epoch 151/200\n",
      "288/288 [==============================] - 0s 1ms/step - loss: 0.1959 - accuracy: 0.9944\n",
      "Epoch 152/200\n",
      "288/288 [==============================] - 0s 1ms/step - loss: 0.1956 - accuracy: 0.9944\n",
      "Epoch 153/200\n",
      "288/288 [==============================] - 0s 1ms/step - loss: 0.1953 - accuracy: 0.9944\n",
      "Epoch 154/200\n",
      "288/288 [==============================] - 0s 1ms/step - loss: 0.1950 - accuracy: 0.9944\n",
      "Epoch 155/200\n",
      "288/288 [==============================] - 0s 988us/step - loss: 0.1947 - accuracy: 0.9944\n",
      "Epoch 156/200\n",
      "288/288 [==============================] - 0s 1ms/step - loss: 0.1944 - accuracy: 0.9944\n",
      "Epoch 157/200\n",
      "288/288 [==============================] - 0s 1ms/step - loss: 0.1941 - accuracy: 0.9944\n",
      "Epoch 158/200\n",
      "288/288 [==============================] - 0s 1ms/step - loss: 0.1939 - accuracy: 0.9944\n",
      "Epoch 159/200\n",
      "288/288 [==============================] - 0s 1ms/step - loss: 0.1936 - accuracy: 0.9944\n",
      "Epoch 160/200\n"
     ]
    },
    {
     "name": "stdout",
     "output_type": "stream",
     "text": [
      "288/288 [==============================] - 0s 950us/step - loss: 0.1933 - accuracy: 0.9944\n",
      "Epoch 161/200\n",
      "288/288 [==============================] - 0s 956us/step - loss: 0.1930 - accuracy: 0.9951\n",
      "Epoch 162/200\n",
      "288/288 [==============================] - 0s 1ms/step - loss: 0.1927 - accuracy: 0.9951\n",
      "Epoch 163/200\n",
      "288/288 [==============================] - 0s 1ms/step - loss: 0.1923 - accuracy: 0.9951\n",
      "Epoch 164/200\n",
      "288/288 [==============================] - 0s 939us/step - loss: 0.1921 - accuracy: 0.9958\n",
      "Epoch 165/200\n",
      "288/288 [==============================] - 0s 946us/step - loss: 0.1919 - accuracy: 0.9958\n",
      "Epoch 166/200\n",
      "288/288 [==============================] - 0s 986us/step - loss: 0.1916 - accuracy: 0.9958\n",
      "Epoch 167/200\n",
      "288/288 [==============================] - 0s 1ms/step - loss: 0.1912 - accuracy: 0.9958\n",
      "Epoch 168/200\n",
      "288/288 [==============================] - 0s 980us/step - loss: 0.1910 - accuracy: 0.9958\n",
      "Epoch 169/200\n",
      "288/288 [==============================] - 0s 847us/step - loss: 0.1907 - accuracy: 0.9958\n",
      "Epoch 170/200\n",
      "288/288 [==============================] - 0s 914us/step - loss: 0.1905 - accuracy: 0.9958\n",
      "Epoch 171/200\n",
      "288/288 [==============================] - 0s 978us/step - loss: 0.1902 - accuracy: 0.9958\n",
      "Epoch 172/200\n",
      "288/288 [==============================] - 0s 1ms/step - loss: 0.1899 - accuracy: 0.9958\n",
      "Epoch 173/200\n",
      "288/288 [==============================] - 0s 1ms/step - loss: 0.1897 - accuracy: 0.9958\n",
      "Epoch 174/200\n",
      "288/288 [==============================] - 0s 1ms/step - loss: 0.1894 - accuracy: 0.9958\n",
      "Epoch 175/200\n",
      "288/288 [==============================] - 0s 1ms/step - loss: 0.1891 - accuracy: 0.9965\n",
      "Epoch 176/200\n",
      "288/288 [==============================] - 0s 1ms/step - loss: 0.1889 - accuracy: 0.9965\n",
      "Epoch 177/200\n",
      "288/288 [==============================] - 0s 961us/step - loss: 0.1886 - accuracy: 0.9965\n",
      "Epoch 178/200\n",
      "288/288 [==============================] - 0s 944us/step - loss: 0.1883 - accuracy: 0.9965\n",
      "Epoch 179/200\n",
      "288/288 [==============================] - 0s 938us/step - loss: 0.1881 - accuracy: 0.9965\n",
      "Epoch 180/200\n",
      "288/288 [==============================] - 0s 1ms/step - loss: 0.1878 - accuracy: 0.9965\n",
      "Epoch 181/200\n",
      "288/288 [==============================] - 0s 1ms/step - loss: 0.1875 - accuracy: 0.9965\n",
      "Epoch 182/200\n",
      "288/288 [==============================] - 0s 999us/step - loss: 0.1873 - accuracy: 0.9965\n",
      "Epoch 183/200\n",
      "288/288 [==============================] - 0s 1ms/step - loss: 0.1870 - accuracy: 0.9965\n",
      "Epoch 184/200\n",
      "288/288 [==============================] - 0s 1ms/step - loss: 0.1868 - accuracy: 0.9965\n",
      "Epoch 185/200\n",
      "288/288 [==============================] - 0s 2ms/step - loss: 0.1865 - accuracy: 0.9965\n",
      "Epoch 186/200\n",
      "288/288 [==============================] - 0s 1ms/step - loss: 0.1863 - accuracy: 0.9965\n",
      "Epoch 187/200\n",
      "288/288 [==============================] - 0s 999us/step - loss: 0.1860 - accuracy: 0.9965\n",
      "Epoch 188/200\n",
      "288/288 [==============================] - 0s 980us/step - loss: 0.1857 - accuracy: 0.9965\n",
      "Epoch 189/200\n",
      "288/288 [==============================] - 0s 939us/step - loss: 0.1855 - accuracy: 0.9965\n",
      "Epoch 190/200\n",
      "288/288 [==============================] - 0s 1ms/step - loss: 0.1852 - accuracy: 0.9965\n",
      "Epoch 191/200\n",
      "288/288 [==============================] - 0s 968us/step - loss: 0.1850 - accuracy: 0.9965\n",
      "Epoch 192/200\n",
      "288/288 [==============================] - 0s 996us/step - loss: 0.1847 - accuracy: 0.9965\n",
      "Epoch 193/200\n",
      "288/288 [==============================] - 0s 891us/step - loss: 0.1845 - accuracy: 0.9965\n",
      "Epoch 194/200\n",
      "288/288 [==============================] - 0s 982us/step - loss: 0.1842 - accuracy: 0.9965\n",
      "Epoch 195/200\n",
      "288/288 [==============================] - 0s 1ms/step - loss: 0.1840 - accuracy: 0.9965\n",
      "Epoch 196/200\n",
      "288/288 [==============================] - 0s 1ms/step - loss: 0.1838 - accuracy: 0.9965\n",
      "Epoch 197/200\n",
      "288/288 [==============================] - 0s 938us/step - loss: 0.1835 - accuracy: 0.9965\n",
      "Epoch 198/200\n",
      "288/288 [==============================] - 0s 1ms/step - loss: 0.1833 - accuracy: 0.9965\n",
      "Epoch 199/200\n",
      "288/288 [==============================] - 0s 1ms/step - loss: 0.1830 - accuracy: 0.9965\n",
      "Epoch 200/200\n",
      "288/288 [==============================] - 0s 1ms/step - loss: 0.1828 - accuracy: 0.9965\n"
     ]
    },
    {
     "data": {
      "text/plain": [
       "<tensorflow.python.keras.callbacks.History at 0x7f6b68536668>"
      ]
     },
     "execution_count": 27,
     "metadata": {},
     "output_type": "execute_result"
    }
   ],
   "source": [
    "model.fit(train_x, train_y2, epochs=200, batch_size=5)"
   ]
  },
  {
   "cell_type": "code",
   "execution_count": 28,
   "metadata": {},
   "outputs": [],
   "source": [
    "y_hat = model.predict(test_x)"
   ]
  },
  {
   "cell_type": "code",
   "execution_count": 29,
   "metadata": {},
   "outputs": [
    {
     "data": {
      "text/plain": [
       "array([[4.1869823e-02, 4.9551904e-02, 2.6504215e-02, ..., 3.3506027e-01,\n",
       "        2.4930434e-02, 4.0340304e-01],\n",
       "       [9.8325515e-01, 3.2749548e-04, 2.4555323e-03, ..., 2.3058847e-04,\n",
       "        2.4583885e-03, 7.5340224e-04],\n",
       "       [2.9475856e-04, 1.3350147e-03, 7.0885464e-04, ..., 2.6800681e-04,\n",
       "        9.7005492e-01, 6.9586486e-03],\n",
       "       ...,\n",
       "       [3.7377703e-03, 2.4614888e-01, 3.7104797e-04, ..., 2.9813463e-03,\n",
       "        2.6165098e-02, 1.7001878e-02],\n",
       "       [1.0381318e-03, 1.7860746e-02, 1.0308042e-04, ..., 2.8208273e-03,\n",
       "        2.3291742e-03, 1.5905696e-04],\n",
       "       [3.5538516e-04, 9.6668822e-01, 2.1955826e-04, ..., 3.9054602e-04,\n",
       "        1.5489824e-02, 5.5855522e-03]], dtype=float32)"
      ]
     },
     "execution_count": 29,
     "metadata": {},
     "output_type": "execute_result"
    }
   ],
   "source": [
    "y_hat"
   ]
  },
  {
   "cell_type": "code",
   "execution_count": 30,
   "metadata": {},
   "outputs": [
    {
     "data": {
      "text/plain": [
       "array([[7, 0, 8, 9, 0, 3, 0, 0, 7, 1, 7, 8, 0, 0, 1, 7, 0, 8, 7, 8, 0, 4,\n",
       "        3, 6, 0, 2, 5, 0, 0, 9, 8, 6, 1, 1, 3, 3, 0, 1, 7, 9, 4, 2, 9, 5,\n",
       "        6, 1, 4, 8, 3, 6, 4, 2, 1, 2, 8, 4, 0, 8, 4, 5, 9, 2, 0, 0, 6, 4,\n",
       "        9, 6, 7, 0, 0, 6, 5, 4, 7, 8, 5, 3, 4, 9, 1, 7, 5, 6, 7, 3, 7, 2,\n",
       "        4, 6, 1, 5, 9, 6, 9, 3, 8, 3, 0, 3, 2, 1, 3, 0, 6, 0, 2, 4, 9, 5,\n",
       "        0, 7, 7, 0, 1, 8, 5, 0, 2, 0, 9, 3, 0, 0, 4, 6, 3, 3, 8, 6, 3, 6,\n",
       "        2, 5, 3, 4, 8, 6, 2, 6, 0, 4, 7, 1, 4, 0, 8, 3, 4, 2, 8, 6, 7, 6,\n",
       "        9, 8, 3, 5, 1, 8, 9, 1, 3, 1, 3, 2, 9, 0, 7, 0, 7, 8, 8, 9, 2, 4,\n",
       "        0, 2, 1, 7, 4, 5, 8, 6, 9, 6, 6, 8, 2, 1, 5, 7, 1, 4, 8, 5, 9, 2,\n",
       "        7, 1, 8, 7, 8, 8, 7, 5, 9, 6, 7, 3, 6, 8, 1, 2, 9, 8, 9, 4, 2, 3,\n",
       "        6, 3, 7, 6, 6, 5, 3, 8, 0, 4, 8, 6, 5, 9, 8, 3, 5, 1, 9, 0, 8, 3,\n",
       "        7, 0, 1, 3, 2, 1, 1, 3, 3, 2, 0, 7, 5, 0, 5, 7, 4, 2, 6, 4, 7, 6,\n",
       "        3, 0, 3, 0, 5, 3, 5, 8, 1, 9, 6, 7, 2, 2, 4, 3, 8, 9, 5, 4, 7, 2,\n",
       "        7, 5, 8, 5, 1, 2, 2, 9, 5, 2, 9, 7, 0, 3, 9, 8, 8, 4, 5, 2, 5, 1,\n",
       "        9, 1, 4, 9, 0, 4, 1, 0, 7, 8, 1, 9, 0, 8, 1, 0, 6, 5, 2, 3, 2, 3,\n",
       "        0, 1, 8, 8, 0, 0, 8, 8, 4, 1, 2, 7, 3, 6, 7, 6, 4, 5, 3, 5, 9, 0,\n",
       "        1, 5, 6, 1, 3, 3, 4, 1]])"
      ]
     },
     "execution_count": 30,
     "metadata": {},
     "output_type": "execute_result"
    }
   ],
   "source": [
    "test_y"
   ]
  },
  {
   "cell_type": "code",
   "execution_count": 31,
   "metadata": {},
   "outputs": [],
   "source": [
    "y_hat = [np.argmax(y) for y in y_hat]"
   ]
  },
  {
   "cell_type": "code",
   "execution_count": 32,
   "metadata": {},
   "outputs": [
    {
     "data": {
      "text/plain": [
       "[9,\n",
       " 0,\n",
       " 8,\n",
       " 9,\n",
       " 0,\n",
       " 3,\n",
       " 0,\n",
       " 0,\n",
       " 7,\n",
       " 1,\n",
       " 7,\n",
       " 1,\n",
       " 0,\n",
       " 0,\n",
       " 1,\n",
       " 7,\n",
       " 0,\n",
       " 8,\n",
       " 7,\n",
       " 8,\n",
       " 0,\n",
       " 4,\n",
       " 3,\n",
       " 6,\n",
       " 0,\n",
       " 2,\n",
       " 5,\n",
       " 0,\n",
       " 0,\n",
       " 9,\n",
       " 8,\n",
       " 6,\n",
       " 1,\n",
       " 1,\n",
       " 3,\n",
       " 3,\n",
       " 0,\n",
       " 1,\n",
       " 7,\n",
       " 9,\n",
       " 4,\n",
       " 2,\n",
       " 9,\n",
       " 5,\n",
       " 6,\n",
       " 1,\n",
       " 4,\n",
       " 8,\n",
       " 3,\n",
       " 6,\n",
       " 4,\n",
       " 2,\n",
       " 1,\n",
       " 2,\n",
       " 6,\n",
       " 9,\n",
       " 0,\n",
       " 8,\n",
       " 4,\n",
       " 5,\n",
       " 9,\n",
       " 2,\n",
       " 0,\n",
       " 0,\n",
       " 6,\n",
       " 4,\n",
       " 9,\n",
       " 6,\n",
       " 7,\n",
       " 0,\n",
       " 0,\n",
       " 6,\n",
       " 5,\n",
       " 4,\n",
       " 7,\n",
       " 8,\n",
       " 5,\n",
       " 3,\n",
       " 4,\n",
       " 9,\n",
       " 1,\n",
       " 7,\n",
       " 5,\n",
       " 6,\n",
       " 7,\n",
       " 3,\n",
       " 7,\n",
       " 2,\n",
       " 4,\n",
       " 6,\n",
       " 1,\n",
       " 5,\n",
       " 9,\n",
       " 6,\n",
       " 9,\n",
       " 5,\n",
       " 8,\n",
       " 3,\n",
       " 2,\n",
       " 3,\n",
       " 2,\n",
       " 1,\n",
       " 3,\n",
       " 0,\n",
       " 6,\n",
       " 0,\n",
       " 1,\n",
       " 4,\n",
       " 9,\n",
       " 5,\n",
       " 0,\n",
       " 4,\n",
       " 7,\n",
       " 0,\n",
       " 1,\n",
       " 8,\n",
       " 5,\n",
       " 0,\n",
       " 2,\n",
       " 0,\n",
       " 9,\n",
       " 3,\n",
       " 0,\n",
       " 0,\n",
       " 4,\n",
       " 6,\n",
       " 3,\n",
       " 3,\n",
       " 3,\n",
       " 6,\n",
       " 3,\n",
       " 6,\n",
       " 2,\n",
       " 5,\n",
       " 3,\n",
       " 4,\n",
       " 8,\n",
       " 6,\n",
       " 2,\n",
       " 6,\n",
       " 0,\n",
       " 4,\n",
       " 7,\n",
       " 1,\n",
       " 4,\n",
       " 0,\n",
       " 8,\n",
       " 3,\n",
       " 4,\n",
       " 2,\n",
       " 8,\n",
       " 6,\n",
       " 7,\n",
       " 6,\n",
       " 9,\n",
       " 8,\n",
       " 3,\n",
       " 5,\n",
       " 1,\n",
       " 8,\n",
       " 9,\n",
       " 1,\n",
       " 3,\n",
       " 1,\n",
       " 3,\n",
       " 2,\n",
       " 9,\n",
       " 0,\n",
       " 7,\n",
       " 0,\n",
       " 7,\n",
       " 8,\n",
       " 8,\n",
       " 9,\n",
       " 2,\n",
       " 4,\n",
       " 0,\n",
       " 2,\n",
       " 1,\n",
       " 7,\n",
       " 4,\n",
       " 5,\n",
       " 8,\n",
       " 6,\n",
       " 9,\n",
       " 6,\n",
       " 6,\n",
       " 8,\n",
       " 2,\n",
       " 1,\n",
       " 5,\n",
       " 7,\n",
       " 1,\n",
       " 4,\n",
       " 8,\n",
       " 5,\n",
       " 9,\n",
       " 2,\n",
       " 7,\n",
       " 1,\n",
       " 8,\n",
       " 4,\n",
       " 8,\n",
       " 8,\n",
       " 7,\n",
       " 5,\n",
       " 9,\n",
       " 6,\n",
       " 7,\n",
       " 3,\n",
       " 6,\n",
       " 8,\n",
       " 1,\n",
       " 2,\n",
       " 9,\n",
       " 2,\n",
       " 9,\n",
       " 4,\n",
       " 2,\n",
       " 3,\n",
       " 6,\n",
       " 3,\n",
       " 7,\n",
       " 6,\n",
       " 6,\n",
       " 5,\n",
       " 3,\n",
       " 8,\n",
       " 0,\n",
       " 4,\n",
       " 8,\n",
       " 6,\n",
       " 5,\n",
       " 9,\n",
       " 8,\n",
       " 3,\n",
       " 5,\n",
       " 1,\n",
       " 9,\n",
       " 0,\n",
       " 8,\n",
       " 7,\n",
       " 7,\n",
       " 0,\n",
       " 1,\n",
       " 3,\n",
       " 2,\n",
       " 1,\n",
       " 1,\n",
       " 3,\n",
       " 3,\n",
       " 2,\n",
       " 0,\n",
       " 7,\n",
       " 5,\n",
       " 0,\n",
       " 5,\n",
       " 7,\n",
       " 4,\n",
       " 2,\n",
       " 6,\n",
       " 4,\n",
       " 7,\n",
       " 6,\n",
       " 3,\n",
       " 0,\n",
       " 3,\n",
       " 0,\n",
       " 5,\n",
       " 3,\n",
       " 5,\n",
       " 8,\n",
       " 1,\n",
       " 9,\n",
       " 6,\n",
       " 7,\n",
       " 2,\n",
       " 2,\n",
       " 4,\n",
       " 3,\n",
       " 8,\n",
       " 9,\n",
       " 5,\n",
       " 4,\n",
       " 7,\n",
       " 2,\n",
       " 7,\n",
       " 5,\n",
       " 8,\n",
       " 5,\n",
       " 1,\n",
       " 2,\n",
       " 2,\n",
       " 3,\n",
       " 5,\n",
       " 2,\n",
       " 9,\n",
       " 7,\n",
       " 0,\n",
       " 3,\n",
       " 9,\n",
       " 8,\n",
       " 8,\n",
       " 4,\n",
       " 5,\n",
       " 2,\n",
       " 5,\n",
       " 1,\n",
       " 9,\n",
       " 1,\n",
       " 4,\n",
       " 9,\n",
       " 0,\n",
       " 4,\n",
       " 1,\n",
       " 0,\n",
       " 7,\n",
       " 8,\n",
       " 1,\n",
       " 9,\n",
       " 0,\n",
       " 8,\n",
       " 1,\n",
       " 0,\n",
       " 6,\n",
       " 5,\n",
       " 2,\n",
       " 3,\n",
       " 2,\n",
       " 3,\n",
       " 0,\n",
       " 1,\n",
       " 8,\n",
       " 8,\n",
       " 0,\n",
       " 0,\n",
       " 8,\n",
       " 8,\n",
       " 4,\n",
       " 1,\n",
       " 2,\n",
       " 7,\n",
       " 3,\n",
       " 6,\n",
       " 7,\n",
       " 6,\n",
       " 4,\n",
       " 5,\n",
       " 3,\n",
       " 5,\n",
       " 9,\n",
       " 0,\n",
       " 1,\n",
       " 5,\n",
       " 6,\n",
       " 1,\n",
       " 3,\n",
       " 5,\n",
       " 4,\n",
       " 1]"
      ]
     },
     "execution_count": 32,
     "metadata": {},
     "output_type": "execute_result"
    }
   ],
   "source": [
    "y_hat"
   ]
  },
  {
   "cell_type": "code",
   "execution_count": 33,
   "metadata": {},
   "outputs": [
    {
     "data": {
      "text/plain": [
       "array([[46,  0,  1,  0,  0,  0,  0,  0,  0,  0],\n",
       "       [ 0, 36,  0,  0,  0,  0,  0,  0,  0,  0],\n",
       "       [ 0,  1, 31,  0,  0,  0,  0,  0,  0,  0],\n",
       "       [ 0,  0,  0, 37,  0,  2,  0,  1,  0,  0],\n",
       "       [ 0,  0,  0,  0, 30,  0,  0,  0,  0,  1],\n",
       "       [ 0,  0,  0,  0,  0, 32,  0,  0,  0,  0],\n",
       "       [ 0,  0,  0,  0,  0,  0, 34,  0,  0,  0],\n",
       "       [ 0,  0,  0,  0,  2,  0,  0, 32,  0,  1],\n",
       "       [ 0,  1,  1,  1,  0,  0,  1,  0, 38,  0],\n",
       "       [ 0,  0,  0,  1,  0,  0,  0,  0,  0, 30]])"
      ]
     },
     "execution_count": 33,
     "metadata": {},
     "output_type": "execute_result"
    }
   ],
   "source": [
    "confusion_matrix(test_y.reshape(-1), y_hat)"
   ]
  },
  {
   "cell_type": "code",
   "execution_count": 34,
   "metadata": {},
   "outputs": [
    {
     "data": {
      "text/plain": [
       "(array([1.        , 0.94736842, 0.93939394, 0.94871795, 0.9375    ,\n",
       "        0.94117647, 0.97142857, 0.96969697, 1.        , 0.9375    ]),\n",
       " array([0.9787234 , 1.        , 0.96875   , 0.925     , 0.96774194,\n",
       "        1.        , 1.        , 0.91428571, 0.9047619 , 0.96774194]),\n",
       " array([0.98924731, 0.97297297, 0.95384615, 0.93670886, 0.95238095,\n",
       "        0.96969697, 0.98550725, 0.94117647, 0.95      , 0.95238095]),\n",
       " array([47, 36, 32, 40, 31, 32, 34, 35, 42, 31]))"
      ]
     },
     "execution_count": 34,
     "metadata": {},
     "output_type": "execute_result"
    }
   ],
   "source": [
    "precision_recall_fscore_support(test_y.reshape(-1), y_hat)"
   ]
  },
  {
   "cell_type": "code",
   "execution_count": 35,
   "metadata": {},
   "outputs": [
    {
     "data": {
      "text/plain": [
       "0.9611111111111111"
      ]
     },
     "execution_count": 35,
     "metadata": {},
     "output_type": "execute_result"
    }
   ],
   "source": [
    "accuracy_score(test_y.reshape(-1), y_hat)"
   ]
  },
  {
   "cell_type": "code",
   "execution_count": 64,
   "metadata": {
    "scrolled": true
   },
   "outputs": [
    {
     "name": "stdout",
     "output_type": "stream",
     "text": [
      "Model: \"sequential\"\n",
      "_________________________________________________________________\n",
      "Layer (type)                 Output Shape              Param #   \n",
      "=================================================================\n",
      "dense (Dense)                (None, 128)               8320      \n",
      "_________________________________________________________________\n",
      "dense_1 (Dense)              (None, 128)               16512     \n",
      "_________________________________________________________________\n",
      "dense_2 (Dense)              (None, 10)                1290      \n",
      "=================================================================\n",
      "Total params: 26,122\n",
      "Trainable params: 26,122\n",
      "Non-trainable params: 0\n",
      "_________________________________________________________________\n"
     ]
    }
   ],
   "source": [
    "model.summary()"
   ]
  },
  {
   "cell_type": "markdown",
   "metadata": {},
   "source": [
    "Теперь сверточные сети."
   ]
  },
  {
   "cell_type": "code",
   "execution_count": 36,
   "metadata": {},
   "outputs": [],
   "source": [
    "model = keras.Sequential()\n",
    "model.add(layers.Conv1D(32, 3, activation='relu'))\n",
    "model.add(layers.Conv1D(32, 3, activation='relu'))\n",
    "model.add(layers.Flatten())\n",
    "model.add(layers.Dense(10, activation=\"softmax\"))\n",
    "\n",
    "model.compile(keras.optimizers.Adam(learning_rate=0.001), keras.losses.MeanSquaredError(reduction='sum'))\n"
   ]
  },
  {
   "cell_type": "code",
   "execution_count": 37,
   "metadata": {},
   "outputs": [],
   "source": [
    "train_x3 = train_x.reshape(-1, 64, 1)\n",
    "train_y3 = train_y2.reshape(-1, 10, 1)\n",
    "test_x3 = test_x.reshape(-1, 64, 1)\n",
    "test_y3 = test_y2.reshape(-1, 10, 1)"
   ]
  },
  {
   "cell_type": "code",
   "execution_count": 38,
   "metadata": {},
   "outputs": [
    {
     "name": "stdout",
     "output_type": "stream",
     "text": [
      "Epoch 1/20\n",
      "45/45 [==============================] - 0s 4ms/step - loss: 1.4803\n",
      "Epoch 2/20\n",
      "45/45 [==============================] - 0s 4ms/step - loss: 0.3226\n",
      "Epoch 3/20\n",
      "45/45 [==============================] - 0s 3ms/step - loss: 0.2087\n",
      "Epoch 4/20\n",
      "45/45 [==============================] - 0s 4ms/step - loss: 0.1825\n",
      "Epoch 5/20\n",
      "45/45 [==============================] - 0s 4ms/step - loss: 0.1356\n",
      "Epoch 6/20\n",
      "45/45 [==============================] - 0s 4ms/step - loss: 0.0772\n",
      "Epoch 7/20\n",
      "45/45 [==============================] - 0s 3ms/step - loss: 0.0784\n",
      "Epoch 8/20\n",
      "45/45 [==============================] - 0s 4ms/step - loss: 0.0657\n",
      "Epoch 9/20\n",
      "45/45 [==============================] - 0s 3ms/step - loss: 0.0518\n",
      "Epoch 10/20\n",
      "45/45 [==============================] - 0s 4ms/step - loss: 0.0413\n",
      "Epoch 11/20\n",
      "45/45 [==============================] - 0s 3ms/step - loss: 0.0352\n",
      "Epoch 12/20\n",
      "45/45 [==============================] - 0s 4ms/step - loss: 0.0470\n",
      "Epoch 13/20\n",
      "45/45 [==============================] - 0s 4ms/step - loss: 0.0434\n",
      "Epoch 14/20\n",
      "45/45 [==============================] - 0s 4ms/step - loss: 0.0237\n",
      "Epoch 15/20\n",
      "45/45 [==============================] - 0s 3ms/step - loss: 0.0181\n",
      "Epoch 16/20\n",
      "45/45 [==============================] - 0s 3ms/step - loss: 0.0143\n",
      "Epoch 17/20\n",
      "45/45 [==============================] - 0s 3ms/step - loss: 0.0248\n",
      "Epoch 18/20\n",
      "45/45 [==============================] - 0s 3ms/step - loss: 0.0139\n",
      "Epoch 19/20\n",
      "45/45 [==============================] - 0s 3ms/step - loss: 0.0121\n",
      "Epoch 20/20\n",
      "45/45 [==============================] - 0s 3ms/step - loss: 0.0115\n"
     ]
    },
    {
     "data": {
      "text/plain": [
       "<tensorflow.python.keras.callbacks.History at 0x7f6b605f0780>"
      ]
     },
     "execution_count": 38,
     "metadata": {},
     "output_type": "execute_result"
    }
   ],
   "source": [
    "model.fit(train_x3, train_y3, epochs=20)#, validation_data=(test_x3, test_y3))"
   ]
  },
  {
   "cell_type": "code",
   "execution_count": 39,
   "metadata": {},
   "outputs": [],
   "source": [
    "y_hat = model.predict(test_x3)"
   ]
  },
  {
   "cell_type": "code",
   "execution_count": 40,
   "metadata": {},
   "outputs": [],
   "source": [
    "y_hat = [np.argmax(y) for y in y_hat]"
   ]
  },
  {
   "cell_type": "code",
   "execution_count": 41,
   "metadata": {},
   "outputs": [
    {
     "data": {
      "text/plain": [
       "array([[47,  0,  0,  0,  0,  0,  0,  0,  0,  0],\n",
       "       [ 0, 36,  0,  0,  0,  0,  0,  0,  0,  0],\n",
       "       [ 0,  0, 32,  0,  0,  0,  0,  0,  0,  0],\n",
       "       [ 0,  0,  0, 36,  0,  1,  0,  2,  1,  0],\n",
       "       [ 0,  2,  0,  0, 29,  0,  0,  0,  0,  0],\n",
       "       [ 0,  1,  0,  0,  0, 31,  0,  0,  0,  0],\n",
       "       [ 0,  0,  0,  0,  0,  0, 34,  0,  0,  0],\n",
       "       [ 0,  0,  0,  0,  0,  0,  0, 34,  0,  1],\n",
       "       [ 0,  1,  0,  0,  0,  0,  0,  0, 41,  0],\n",
       "       [ 0,  0,  0,  0,  0,  0,  0,  0,  0, 31]])"
      ]
     },
     "execution_count": 41,
     "metadata": {},
     "output_type": "execute_result"
    }
   ],
   "source": [
    "confusion_matrix(test_y.reshape(-1), y_hat)"
   ]
  },
  {
   "cell_type": "code",
   "execution_count": 42,
   "metadata": {},
   "outputs": [
    {
     "data": {
      "text/plain": [
       "(array([1.        , 0.9       , 1.        , 1.        , 1.        ,\n",
       "        0.96875   , 1.        , 0.94444444, 0.97619048, 0.96875   ]),\n",
       " array([1.        , 1.        , 1.        , 0.9       , 0.93548387,\n",
       "        0.96875   , 1.        , 0.97142857, 0.97619048, 1.        ]),\n",
       " array([1.        , 0.94736842, 1.        , 0.94736842, 0.96666667,\n",
       "        0.96875   , 1.        , 0.95774648, 0.97619048, 0.98412698]),\n",
       " array([47, 36, 32, 40, 31, 32, 34, 35, 42, 31]))"
      ]
     },
     "execution_count": 42,
     "metadata": {},
     "output_type": "execute_result"
    }
   ],
   "source": [
    "precision_recall_fscore_support(test_y.reshape(-1), y_hat)"
   ]
  },
  {
   "cell_type": "code",
   "execution_count": 43,
   "metadata": {},
   "outputs": [
    {
     "data": {
      "text/plain": [
       "0.975"
      ]
     },
     "execution_count": 43,
     "metadata": {},
     "output_type": "execute_result"
    }
   ],
   "source": [
    "accuracy_score(test_y.reshape(-1), y_hat)"
   ]
  },
  {
   "cell_type": "code",
   "execution_count": 35,
   "metadata": {
    "scrolled": true
   },
   "outputs": [
    {
     "name": "stdout",
     "output_type": "stream",
     "text": [
      "Model: \"sequential_1\"\n",
      "_________________________________________________________________\n",
      "Layer (type)                 Output Shape              Param #   \n",
      "=================================================================\n",
      "conv1d (Conv1D)              multiple                  128       \n",
      "_________________________________________________________________\n",
      "conv1d_1 (Conv1D)            multiple                  3104      \n",
      "_________________________________________________________________\n",
      "flatten (Flatten)            multiple                  0         \n",
      "_________________________________________________________________\n",
      "dense_3 (Dense)              multiple                  19210     \n",
      "=================================================================\n",
      "Total params: 22,442\n",
      "Trainable params: 22,442\n",
      "Non-trainable params: 0\n",
      "_________________________________________________________________\n"
     ]
    }
   ],
   "source": [
    "model.summary()"
   ]
  },
  {
   "cell_type": "markdown",
   "metadata": {},
   "source": [
    "LSTM"
   ]
  },
  {
   "cell_type": "code",
   "execution_count": 44,
   "metadata": {},
   "outputs": [],
   "source": [
    "model = keras.Sequential()\n",
    "model.add(layers.Bidirectional(layers.LSTM(64)))\n",
    "# model.add(layers.Dropout(0.1))\n",
    "model.add(layers.Flatten())\n",
    "model.add(layers.Dense(10, activation=\"softmax\"))\n",
    "\n",
    "model.compile(keras.optimizers.Adam(learning_rate=0.001, clipnorm=1.), \n",
    "               keras.losses.MeanSquaredError(reduction='sum'),\n",
    "               metrics=[keras.metrics.Precision()])\n",
    "\n"
   ]
  },
  {
   "cell_type": "code",
   "execution_count": 45,
   "metadata": {},
   "outputs": [
    {
     "name": "stdout",
     "output_type": "stream",
     "text": [
      "Epoch 1/20\n",
      "45/45 [==============================] - 1s 29ms/step - loss: 2.7414 - precision: 1.0000\n",
      "Epoch 2/20\n",
      "45/45 [==============================] - 1s 32ms/step - loss: 1.9847 - precision: 0.8953\n",
      "Epoch 3/20\n",
      "45/45 [==============================] - 2s 38ms/step - loss: 1.4198 - precision: 0.8925\n",
      "Epoch 4/20\n",
      "45/45 [==============================] - 2s 34ms/step - loss: 1.1470 - precision: 0.8889\n",
      "Epoch 5/20\n",
      "45/45 [==============================] - 1s 30ms/step - loss: 1.0189 - precision: 0.8721\n",
      "Epoch 6/20\n",
      "45/45 [==============================] - 1s 33ms/step - loss: 0.8747 - precision: 0.9176\n",
      "Epoch 7/20\n",
      "45/45 [==============================] - 1s 32ms/step - loss: 0.7388 - precision: 0.9158\n",
      "Epoch 8/20\n",
      "45/45 [==============================] - 1s 29ms/step - loss: 0.6495 - precision: 0.9193\n",
      "Epoch 9/20\n",
      "45/45 [==============================] - 2s 35ms/step - loss: 0.6561 - precision: 0.9108\n",
      "Epoch 10/20\n",
      "45/45 [==============================] - 1s 33ms/step - loss: 0.6462 - precision: 0.9034\n",
      "Epoch 11/20\n",
      "45/45 [==============================] - 1s 31ms/step - loss: 0.5091 - precision: 0.9261\n",
      "Epoch 12/20\n",
      "45/45 [==============================] - 1s 33ms/step - loss: 0.4952 - precision: 0.9292\n",
      "Epoch 13/20\n",
      "45/45 [==============================] - 1s 31ms/step - loss: 0.4720 - precision: 0.9319\n",
      "Epoch 14/20\n",
      "45/45 [==============================] - 1s 33ms/step - loss: 0.3787 - precision: 0.9449\n",
      "Epoch 15/20\n",
      "45/45 [==============================] - 1s 31ms/step - loss: 0.3970 - precision: 0.9390\n",
      "Epoch 16/20\n",
      "45/45 [==============================] - 2s 36ms/step - loss: 0.3778 - precision: 0.9466\n",
      "Epoch 17/20\n",
      "45/45 [==============================] - 1s 30ms/step - loss: 0.3817 - precision: 0.9443\n",
      "Epoch 18/20\n",
      "45/45 [==============================] - 1s 30ms/step - loss: 0.3029 - precision: 0.9590\n",
      "Epoch 19/20\n",
      "45/45 [==============================] - 2s 37ms/step - loss: 0.3130 - precision: 0.9560\n",
      "Epoch 20/20\n",
      "45/45 [==============================] - 2s 36ms/step - loss: 0.2750 - precision: 0.9620\n"
     ]
    },
    {
     "data": {
      "text/plain": [
       "<tensorflow.python.keras.callbacks.History at 0x7f6b6046cdd8>"
      ]
     },
     "execution_count": 45,
     "metadata": {},
     "output_type": "execute_result"
    }
   ],
   "source": [
    "model.fit(train_x3, train_y3, epochs=20)"
   ]
  },
  {
   "cell_type": "code",
   "execution_count": 46,
   "metadata": {},
   "outputs": [],
   "source": [
    "y_hat = model.predict(test_x3)"
   ]
  },
  {
   "cell_type": "code",
   "execution_count": 47,
   "metadata": {},
   "outputs": [],
   "source": [
    "y_hat = [np.argmax(y) for y in y_hat]"
   ]
  },
  {
   "cell_type": "code",
   "execution_count": 48,
   "metadata": {},
   "outputs": [
    {
     "data": {
      "text/plain": [
       "array([[44,  0,  2,  1,  0,  0,  0,  0,  0,  0],\n",
       "       [ 0, 32,  0,  0,  1,  0,  0,  0,  3,  0],\n",
       "       [ 0,  0, 31,  1,  0,  0,  0,  0,  0,  0],\n",
       "       [ 0,  1,  1, 32,  0,  6,  0,  0,  0,  0],\n",
       "       [ 0,  0,  0,  0, 31,  0,  0,  0,  0,  0],\n",
       "       [ 0,  0,  0,  1,  0, 29,  0,  2,  0,  0],\n",
       "       [ 0,  0,  0,  0,  0,  0, 34,  0,  0,  0],\n",
       "       [ 0,  0,  0,  0,  3,  0,  0, 32,  0,  0],\n",
       "       [ 1,  1,  0,  1,  0,  2,  2,  0, 35,  0],\n",
       "       [ 0,  0,  0,  0,  0,  2,  0,  0,  0, 29]])"
      ]
     },
     "execution_count": 48,
     "metadata": {},
     "output_type": "execute_result"
    }
   ],
   "source": [
    "confusion_matrix(test_y.reshape(-1), y_hat)"
   ]
  },
  {
   "cell_type": "code",
   "execution_count": 49,
   "metadata": {},
   "outputs": [
    {
     "data": {
      "text/plain": [
       "(array([0.97777778, 0.94117647, 0.91176471, 0.88888889, 0.88571429,\n",
       "        0.74358974, 0.94444444, 0.94117647, 0.92105263, 1.        ]),\n",
       " array([0.93617021, 0.88888889, 0.96875   , 0.8       , 1.        ,\n",
       "        0.90625   , 1.        , 0.91428571, 0.83333333, 0.93548387]),\n",
       " array([0.95652174, 0.91428571, 0.93939394, 0.84210526, 0.93939394,\n",
       "        0.81690141, 0.97142857, 0.92753623, 0.875     , 0.96666667]),\n",
       " array([47, 36, 32, 40, 31, 32, 34, 35, 42, 31]))"
      ]
     },
     "execution_count": 49,
     "metadata": {},
     "output_type": "execute_result"
    }
   ],
   "source": [
    "precision_recall_fscore_support(test_y.reshape(-1), y_hat)"
   ]
  },
  {
   "cell_type": "code",
   "execution_count": 50,
   "metadata": {},
   "outputs": [
    {
     "data": {
      "text/plain": [
       "0.9138888888888889"
      ]
     },
     "execution_count": 50,
     "metadata": {},
     "output_type": "execute_result"
    }
   ],
   "source": [
    "accuracy_score(test_y.reshape(-1), y_hat)"
   ]
  },
  {
   "cell_type": "code",
   "execution_count": 113,
   "metadata": {
    "scrolled": true
   },
   "outputs": [
    {
     "name": "stdout",
     "output_type": "stream",
     "text": [
      "Model: \"sequential_6\"\n",
      "_________________________________________________________________\n",
      "Layer (type)                 Output Shape              Param #   \n",
      "=================================================================\n",
      "bidirectional_1 (Bidirection multiple                  33792     \n",
      "_________________________________________________________________\n",
      "flatten_3 (Flatten)          multiple                  0         \n",
      "_________________________________________________________________\n",
      "dense_12 (Dense)             multiple                  1290      \n",
      "=================================================================\n",
      "Total params: 35,082\n",
      "Trainable params: 35,082\n",
      "Non-trainable params: 0\n",
      "_________________________________________________________________\n"
     ]
    }
   ],
   "source": [
    "model.summary()"
   ]
  },
  {
   "cell_type": "code",
   "execution_count": null,
   "metadata": {},
   "outputs": [],
   "source": []
  }
 ],
 "metadata": {
  "kernelspec": {
   "display_name": "Python 3 (ipykernel)",
   "language": "python",
   "name": "python3"
  },
  "language_info": {
   "codemirror_mode": {
    "name": "ipython",
    "version": 3
   },
   "file_extension": ".py",
   "mimetype": "text/x-python",
   "name": "python",
   "nbconvert_exporter": "python",
   "pygments_lexer": "ipython3",
   "version": "3.9.5"
  }
 },
 "nbformat": 4,
 "nbformat_minor": 2
}
